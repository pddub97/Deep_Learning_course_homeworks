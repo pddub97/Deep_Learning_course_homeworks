{
 "cells": [
  {
   "cell_type": "markdown",
   "metadata": {
    "colab_type": "text",
    "id": "2M45jJTxa8ZG"
   },
   "source": [
    "# Homework 1"
   ]
  },
  {
   "cell_type": "markdown",
   "metadata": {
    "colab_type": "text",
    "id": "f3MclRs_a8ZH"
   },
   "source": [
    "This homework should be submitted as one notebook. When completed, please rename the notebook before sending as follows: *hw1_\\<lastname\\>_\\<firstname\\>.ipynb* (example: *hw1_Bond_James.ipynb*)."
   ]
  },
  {
   "cell_type": "markdown",
   "metadata": {
    "colab_type": "text",
    "id": "37n91gZ6a8ZI"
   },
   "source": [
    "# Part 1: Differentiation"
   ]
  },
  {
   "cell_type": "markdown",
   "metadata": {
    "colab_type": "text",
    "id": "l_Sr1Zxza8ZI"
   },
   "source": [
    "Since it easy to google every task please please please try to understand what's going on. The \"just answer\" thing will be not counted, make sure to present derivation of your solution. A good way to derive solutions for these tasks is to derive it for single elements and then generalize to the resulting matrix/vector."
   ]
  },
  {
   "cell_type": "markdown",
   "metadata": {
    "colab_type": "text",
    "id": "f1ahDeg1a8ZJ"
   },
   "source": [
    "Useful links: \n",
    "[1](http://www.machinelearning.ru/wiki/images/2/2a/Matrix-Gauss.pdf)\n",
    "[2](http://www.atmos.washington.edu/~dennis/MatrixCalculus.pdf)\n",
    "[3](http://cal.cs.illinois.edu/~johannes/research/matrix%20calculus.pdf)"
   ]
  },
  {
   "cell_type": "markdown",
   "metadata": {
    "colab_type": "text",
    "id": "V30qeYrqa8ZJ"
   },
   "source": [
    "## ex. 1 *[0.5 points]*"
   ]
  },
  {
   "cell_type": "markdown",
   "metadata": {
    "colab_type": "text",
    "id": "eHSBX7Aga8ZK"
   },
   "source": [
    "Scalar w.r.t. vector:\n",
    "$$  \n",
    "y = c^Tx,  \\quad x \\in \\mathbb{R}^N \n",
    "$$"
   ]
  },
  {
   "cell_type": "markdown",
   "metadata": {
    "colab_type": "text",
    "id": "nUTmGzvGa8ZK"
   },
   "source": [
    "$$\n",
    "\\frac{dy}{dx} = \n",
    "\\frac{d}{dx} \\left[\n",
    "\\begin{pmatrix}\n",
    "c_1 &\n",
    "c_2 &\n",
    "\\dots &\n",
    "c_n\n",
    "\\end{pmatrix} \n",
    "\\begin{pmatrix}\n",
    "x_1 \\\\\n",
    "x_2 \\\\\n",
    "\\vdots \\\\\n",
    "x_n\n",
    "\\end{pmatrix} \\right] =\n",
    "\\begin{pmatrix}\n",
    "\\frac{d}{dx_1} \\\\\n",
    "\\frac{d}{dx_2} \\\\\n",
    "\\vdots \\\\\n",
    "\\frac{d}{dx_n}\n",
    "\\end{pmatrix}\n",
    "(c_1x_1 + c_2x_2 + \\dots + c_nx_n)\n",
    "=\n",
    "\\begin{pmatrix}\n",
    "\\frac{d}{dx_1}(c_1x_1 + c_2x_2 + \\dots + c_nx_n) \\\\\n",
    "\\frac{d}{dx_2}(c_1x_1 + c_2x_2 + \\dots + c_nx_n) \\\\\n",
    "\\vdots \\\\\n",
    "\\frac{d}{dx_n}(c_1x_1 + c_2x_2 + \\dots + c_nx_n)\n",
    "\\end{pmatrix}\n",
    "=\n",
    "\\begin{pmatrix}\n",
    "c_1 \\\\\n",
    "c_2 \\\\\n",
    "\\vdots \\\\\n",
    "c_n\n",
    "\\end{pmatrix} =\n",
    "c\n",
    "$$ "
   ]
  },
  {
   "cell_type": "markdown",
   "metadata": {
    "colab_type": "text",
    "id": "IxVvMSVpa8ZL"
   },
   "source": [
    "## ex. 2 *[0.5 points]*"
   ]
  },
  {
   "cell_type": "markdown",
   "metadata": {
    "colab_type": "text",
    "id": "MI-vYzmsa8ZL"
   },
   "source": [
    "Vector w.r.t. vector:\n",
    "$$ y = \\sum_{j=1}^{N} cx^T \\quad c \\in \\mathbb{R}^{M} ,x \\in \\mathbb{R}^{N}, cx^T \\in \\mathbb{R}^{M \\times N} $$ "
   ]
  },
  {
   "cell_type": "markdown",
   "metadata": {
    "colab_type": "text",
    "id": "CpaQhwLAa8ZM"
   },
   "source": [
    "$$\n",
    "cx^T = \n",
    "\\begin{pmatrix}\n",
    "c_1 \\\\\n",
    "c_2 \\\\\n",
    "\\vdots \\\\\n",
    "c_M\n",
    "\\end{pmatrix} \n",
    "\\begin{pmatrix}\n",
    "x_1 & x_2 & \\dots & x_N\n",
    "\\end{pmatrix} =\n",
    "\\begin{pmatrix}\n",
    "c_1x_1 & c_1x_2 & \\dots & c_1x_N \\\\\n",
    "c_2x_1 & c_2x_2 & \\dots & c_2x_N \\\\\n",
    "\\vdots & \\vdots & \\ddots & \\vdots \\\\\n",
    "c_Mx_1 & c_Mx_2 & \\dots & c_Mx_N\n",
    "\\end{pmatrix}\n",
    "$$\n",
    "$$\n",
    "\\sum_{j=1}^{N} cx^T = \n",
    "\\begin{pmatrix}\n",
    "c_1x_1 + c_1x_2 + \\dots + c_1x_N\\\\\n",
    "c_2x_1 + c_2x_2 + \\dots + c_2x_N\\\\\n",
    "\\vdots \\\\ \n",
    "c_Mx_1 + c_Mx_2 + \\dots + c_Mx_N\n",
    "\\end{pmatrix}=\n",
    "\\begin{pmatrix}\n",
    "y_1 \\\\\n",
    "y_2 \\\\\n",
    "\\vdots \\\\\n",
    "y_M\n",
    "\\end{pmatrix} \n",
    "$$\n",
    "$$\n",
    "\\frac{dy}{dx} = \n",
    "\\begin{pmatrix}\n",
    "\\frac{\\partial y_1}{\\partial x_1} & \\frac{\\partial y_1}{\\partial x_2} & \\dots & \\frac{\\partial y_1}{\\partial x_N} \\\\\n",
    "\\frac{\\partial y_2}{\\partial x_1} & \\frac{\\partial y_2}{\\partial x_2} & \\dots & \\frac{\\partial y_2}{\\partial x_N} \\\\\n",
    "\\vdots & \\vdots & \\ddots & \\vdots \\\\\n",
    "\\frac{\\partial y_M}{\\partial x_1} & \\frac{\\partial y_M}{\\partial x_2} & \\dots & \\frac{\\partial y_M}{\\partial x_N}\n",
    "\\end{pmatrix}=\n",
    "\\begin{pmatrix}\n",
    "c_1 & c_1 & \\dots & c_1 \\\\\n",
    "c_2 & c_2 & \\dots & c_2 \\\\\n",
    "\\vdots & \\vdots & \\ddots & \\vdots \\\\\n",
    "c_M & c_M & \\dots & c_M\n",
    "\\end{pmatrix}\n",
    "$$"
   ]
  },
  {
   "cell_type": "markdown",
   "metadata": {
    "colab_type": "text",
    "id": "3ULG7XP3a8ZM"
   },
   "source": [
    "## ex. 3 *[1 points]*"
   ]
  },
  {
   "cell_type": "markdown",
   "metadata": {
    "colab_type": "text",
    "id": "IatliIhEa8ZN"
   },
   "source": [
    "Vector w.r.t. vector:\n",
    "$$  \n",
    "y = x x^T x , x \\in \\mathbb{R}^{N}\n",
    "$$\n",
    "\n",
    "$$\n",
    "x x^T x = \n",
    "\\begin{pmatrix}\n",
    "x_1 \\\\\n",
    "x_2 \\\\\n",
    "\\vdots \\\\\n",
    "x_n\n",
    "\\end{pmatrix}\n",
    "\\begin{pmatrix}\n",
    "x_1 & x_2 & \\dots & x_N\n",
    "\\end{pmatrix}\n",
    "\\begin{pmatrix}\n",
    "x_1 \\\\\n",
    "x_2 \\\\\n",
    "\\vdots \\\\\n",
    "x_N\n",
    "\\end{pmatrix}=\n",
    "\\begin{pmatrix}\n",
    "x_1 \\\\\n",
    "x_2 \\\\\n",
    "\\vdots \\\\\n",
    "x_N\n",
    "\\end{pmatrix}\n",
    "(x_1^2 + x_2^2 + \\dots + x_N^2)=\n",
    "\\begin{pmatrix}\n",
    "x_1^3 + x_2^2x_1 + \\dots + x_N^2x_1 \\\\\n",
    "x_1^2x_2 + x_2^3 + \\dots + x_N^2x_2 \\\\\n",
    "\\vdots \\\\\n",
    "x_1^2x_N + x_2^2x_N + \\dots + x_N^3\n",
    "\\end{pmatrix}=\n",
    "\\begin{pmatrix}\n",
    "y_1 \\\\\n",
    "y_2 \\\\\n",
    "\\vdots \\\\\n",
    "y_N\n",
    "\\end{pmatrix} \n",
    "$$\n",
    "\n",
    "$$\n",
    "\\frac{dy}{dx} =\n",
    "\\begin{pmatrix}\n",
    "\\frac{\\partial y_1}{\\partial x_1} & \\frac{\\partial y_1}{\\partial x_2} & \\dots & \\frac{\\partial y_1}{\\partial x_N} \\\\\n",
    "\\frac{\\partial y_2}{\\partial x_1} & \\frac{\\partial y_2}{\\partial x_2} & \\dots & \\frac{\\partial y_2}{\\partial x_N} \\\\\n",
    "\\vdots & \\vdots & \\ddots & \\vdots \\\\\n",
    "\\frac{\\partial y_N}{\\partial x_1} & \\frac{\\partial y_N}{\\partial x_2} & \\dots & \\frac{\\partial y_N}{\\partial x_N}\n",
    "\\end{pmatrix}=\n",
    "\\begin{pmatrix}\n",
    "3x_1^2 + x_2^2 + \\dots + x_N^2 & 2x_2x_1 & \\dots & 2x_Nx_1 \\\\\n",
    "2x_1x_2 & x_1^2 + 3x_2^2 + \\dots + x_N^2 & \\dots & 2x_Nx_2 \\\\\n",
    "\\vdots & \\vdots & \\ddots & \\vdots \\\\\n",
    "2x_1x_N & 2x_2x_N & \\dots & x_1^2 + x_2^2 + \\dots + 3x_N^2\n",
    "\\end{pmatrix}\n",
    "$$"
   ]
  },
  {
   "cell_type": "markdown",
   "metadata": {
    "colab_type": "text",
    "id": "yMlvYM8qa8ZN"
   },
   "source": [
    "## ex. 4 *[1 points]*"
   ]
  },
  {
   "cell_type": "markdown",
   "metadata": {
    "colab_type": "text",
    "id": "rXeCRL-pa8ZO"
   },
   "source": [
    "Derivatives for the parameters of the Dense layer:\n",
    "\n",
    "***Given :***  $$Y = XW, Y \\in \\mathbb{R}^{N \\times OUT}, X \\in \\mathbb{R}^{N \\times IN}, W \\in \\mathbb{R}^{IN \\times OUT} $$ \n",
    "\n",
    "The derivative of the hypothetic loss function w.r.t. to $Y$ is known: $\\Delta Y  \\in \\mathbb{R}^{N \\times OUT}$\n",
    "\n",
    "***Task :*** Please, derive the gradients of the loss w.r.t the weight matrix $W$: $\\Delta W  \\in \\mathbb{R}^{IN \\times OUT}$. Use the chain rule. First, please, derive each element of the $\\Delta W$, then generalize to the matrix form.\n",
    " \n",
    "Useful link: http://cs231n.stanford.edu/vecDerivs.pdf\n"
   ]
  },
  {
   "cell_type": "markdown",
   "metadata": {
    "colab_type": "text",
    "id": "09dQJsrOCaUL"
   },
   "source": [
    "$$ \\frac{\\partial L}{\\partial W}  =\\frac{\\partial L}{\\partial Y} \\frac{\\partial Y}{\\partial W} =\\Delta Y \\frac{\\partial Y}{\\partial W} = $$\n",
    "$$=\\begin{pmatrix}\n",
    "x_{11} & x_{21} & \\dots & x_{N1} \\\\\n",
    "x_{12} & x_{22} & \\dots & x_{N2} \\\\\n",
    "\\vdots & \\vdots & \\ddots & \\vdots \\\\\n",
    "x_{1IN} & x_{2IN} & \\dots & x_{NIN}\n",
    "\\end{pmatrix}\\begin{pmatrix}\n",
    "\\frac{\\partial L}{\\partial y_{11}} & \\frac{\\partial L}{\\partial y_{12}} & \\dots & \\frac{\\partial L}{\\partial y_{1OUT}} \\\\\n",
    "\\frac{\\partial L}{\\partial y_{21}} & \\frac{\\partial L}{\\partial y_{22}} & \\dots & \\frac{\\partial L}{\\partial y_{2OUT}} \\\\\n",
    "\\vdots & \\vdots & \\ddots & \\vdots \\\\\n",
    "\\frac{\\partial L}{\\partial y_{N1}} & \\frac{\\partial L}{\\partial y_{N2}} & \\dots & \\frac{\\partial L}{\\partial y_{NOUT}}\n",
    "\\end{pmatrix} =\n",
    "X^T\\Delta Y$$\n",
    "\n"
   ]
  },
  {
   "cell_type": "markdown",
   "metadata": {
    "colab_type": "text",
    "id": "gzoP8crea8ZO"
   },
   "source": [
    "# Part 2: Modules\n",
    "\n",
    "In this part you need to implement the modules of your neural network in NumPy."
   ]
  },
  {
   "cell_type": "code",
   "execution_count": 0,
   "metadata": {
    "colab": {},
    "colab_type": "code",
    "id": "nwRNbWqia8ZP"
   },
   "outputs": [],
   "source": [
    "import numpy as np"
   ]
  },
  {
   "cell_type": "markdown",
   "metadata": {
    "colab_type": "text",
    "id": "Utm0xEL1a8ZS"
   },
   "source": [
    "**Module** is an abstract class which defines fundamental methods necessary for a training a neural network. You do not need to change anything here, just read the comments."
   ]
  },
  {
   "cell_type": "code",
   "execution_count": 0,
   "metadata": {
    "colab": {},
    "colab_type": "code",
    "id": "nSYlUiK6a8ZS"
   },
   "outputs": [],
   "source": [
    "class Module(object):\n",
    "    \"\"\"\n",
    "    Basically, you can think of a module as of a something (black box) \n",
    "    which can process `input` data and produce `ouput` data.\n",
    "    This is like applying a function which is called `forward`: \n",
    "        \n",
    "        output = module.forward(input)\n",
    "    \n",
    "    The module should be able to perform a backward pass: to differentiate the `forward` function. \n",
    "    More, it should be able to differentiate it if is a part of chain (chain rule).\n",
    "    The latter implies there is a gradient from previous step of a chain rule. \n",
    "    \n",
    "        gradInput = module.backward(input, gradOutput)\n",
    "    \"\"\"\n",
    "    def __init__ (self):\n",
    "        self.output = None\n",
    "        self.gradInput = None\n",
    "        self.training = True\n",
    "    \n",
    "    def forward(self, input):\n",
    "        \"\"\"\n",
    "        Takes an input object, and computes the corresponding output of the module.\n",
    "        \"\"\"\n",
    "        return self.updateOutput(input)\n",
    "\n",
    "    def backward(self,input, gradOutput):\n",
    "        \"\"\"\n",
    "        Performs a backpropagation step through the module, with respect to the given input.\n",
    "        \n",
    "        This includes \n",
    "         - computing a gradient w.r.t. `input` (is needed for further backprop),\n",
    "         - computing a gradient w.r.t. parameters (to update parameters while optimizing).\n",
    "        \"\"\"\n",
    "        self.updateGradInput(input, gradOutput)\n",
    "        self.accGradParameters(input, gradOutput)\n",
    "        return self.gradInput\n",
    "    \n",
    "\n",
    "    def updateOutput(self, input):\n",
    "        \"\"\"\n",
    "        Computes the output using the current parameter set of the class and input.\n",
    "        This function returns the result which is stored in the `output` field.\n",
    "        \n",
    "        Make sure to both store the data in `output` field and return it. \n",
    "        \"\"\"\n",
    "        \n",
    "        # The easiest case:\n",
    "            \n",
    "        # self.output = input \n",
    "        # return self.output\n",
    "        \n",
    "        pass\n",
    "\n",
    "    def updateGradInput(self, input, gradOutput):\n",
    "        \"\"\"\n",
    "        Computing the gradient of the module with respect to its own input. \n",
    "        This is returned in `gradInput`. Also, the `gradInput` state variable is updated accordingly.\n",
    "        \n",
    "        The shape of `gradInput` is always the same as the shape of `input`.\n",
    "        \n",
    "        Make sure to both store the gradients in `gradInput` field and return it.\n",
    "        \"\"\"\n",
    "        \n",
    "        # The easiest case:\n",
    "        \n",
    "        # self.gradInput = gradOutput \n",
    "        # return self.gradInput\n",
    "        \n",
    "        pass   \n",
    "    \n",
    "    def accGradParameters(self, input, gradOutput):\n",
    "        \"\"\"\n",
    "        Computing the gradient of the module with respect to its own parameters.\n",
    "        No need to override if module has no parameters (e.g. ReLU).\n",
    "        \"\"\"\n",
    "        pass\n",
    "    \n",
    "    def zeroGradParameters(self): \n",
    "        \"\"\"\n",
    "        Zeroes `gradParams` variable if the module has params.\n",
    "        \"\"\"\n",
    "        pass\n",
    "        \n",
    "    def getParameters(self):\n",
    "        \"\"\"\n",
    "        Returns a list with its parameters. \n",
    "        If the module does not have parameters return empty list. \n",
    "        \"\"\"\n",
    "        return []\n",
    "        \n",
    "    def getGradParameters(self):\n",
    "        \"\"\"\n",
    "        Returns a list with gradients with respect to its parameters. \n",
    "        If the module does not have parameters return empty list. \n",
    "        \"\"\"\n",
    "        return []\n",
    "    \n",
    "    def train(self):\n",
    "        \"\"\"\n",
    "        Sets training mode for the module.\n",
    "        Training and testing behaviour differs for Dropout, BatchNorm.\n",
    "        \"\"\"\n",
    "        self.training = True\n",
    "    \n",
    "    def evaluate(self):\n",
    "        \"\"\"\n",
    "        Sets evaluation mode for the module.\n",
    "        Training and testing behaviour differs for Dropout, BatchNorm.\n",
    "        \"\"\"\n",
    "        self.training = False\n",
    "    \n",
    "    def __repr__(self):\n",
    "        \"\"\"\n",
    "        Pretty printing. Should be overrided in every module if you want \n",
    "        to have readable description. \n",
    "        \"\"\"\n",
    "        return \"Module\""
   ]
  },
  {
   "cell_type": "markdown",
   "metadata": {
    "colab_type": "text",
    "id": "8iE6-oiZa8ZV"
   },
   "source": [
    "# Sequential container *[0.5 pts]*"
   ]
  },
  {
   "cell_type": "markdown",
   "metadata": {
    "colab_type": "text",
    "id": "8nu_sn15a8ZV"
   },
   "source": [
    "**Define** a forward and backward pass procedures."
   ]
  },
  {
   "cell_type": "code",
   "execution_count": 0,
   "metadata": {
    "colab": {},
    "colab_type": "code",
    "id": "E9ZJDsQ5a8ZW"
   },
   "outputs": [],
   "source": [
    "class Sequential(Module):\n",
    "    \"\"\"\n",
    "         This class implements a container, which processes `input` data sequentially. \n",
    "         \n",
    "         `input` is processed by each module (layer) in self.modules consecutively.\n",
    "         The resulting array is called `output`. \n",
    "    \"\"\"\n",
    "    \n",
    "    def __init__ (self):\n",
    "        super(Sequential, self).__init__()\n",
    "        self.modules = []\n",
    "   \n",
    "    def add(self, module):\n",
    "        \"\"\"\n",
    "        Adds a module to the container.\n",
    "        \"\"\"\n",
    "        self.modules.append(module)\n",
    "\n",
    "    def updateOutput(self, input):\n",
    "        \"\"\"\n",
    "        Basic workflow of FORWARD PASS:\n",
    "        \n",
    "            y_0    = module[0].forward(input)\n",
    "            y_1    = module[1].forward(y_0)\n",
    "            ...\n",
    "            output = module[n-1].forward(y_{n-2})   \n",
    "            \n",
    "            \n",
    "        Just write a little loop. \n",
    "        \"\"\"\n",
    "\n",
    "        # Your code goes here. ################################################\n",
    "        \n",
    "        for module in self.modules:\n",
    "          input = module.forward(input)\n",
    "        self.output = input\n",
    "        return self.output\n",
    "\n",
    "    def backward(self, input, gradOutput):\n",
    "        \"\"\"\n",
    "        Workflow of BACKWARD PASS:\n",
    "            \n",
    "            g_{n-1} = module[n-1].backward(y_{n-2}, gradOutput)\n",
    "            g_{n-2} = module[n-2].backward(y_{n-3}, g_{n-1})\n",
    "            ...\n",
    "            g_1 = module[1].backward(y_0, g_2)   \n",
    "            gradInput = module[0].backward(input, g_1)   \n",
    "             \n",
    "             \n",
    "        !!!\n",
    "                \n",
    "        To ech module you need to provide the input, module saw while forward pass, \n",
    "        it is used while computing gradients. \n",
    "        Make sure that the input for `i-th` layer the output of `module[i]` (just the same input as in forward pass) \n",
    "        and NOT `input` to this Sequential module. \n",
    "        \n",
    "        !!!\n",
    "        \n",
    "        \"\"\"\n",
    "        # Your code goes here. ################################################\n",
    "        n = len(self.modules)\n",
    "        self.gradInput = self.modules[n-1].backward(self.modules[n-2].output, gradOutput)\n",
    "        n = n-1\n",
    "        while n!=1:\n",
    "          self.gradInput = self.modules[n-1].backward(self.modules[n-2].output, self.gradInput)\n",
    "          n -= 1\n",
    "        self.gradInput = self.modules[n-1].backward(input, self.gradInput)\n",
    "        return self.gradInput\n",
    "      \n",
    "\n",
    "    def zeroGradParameters(self): \n",
    "        for module in self.modules:\n",
    "            module.zeroGradParameters()\n",
    "    \n",
    "    def getParameters(self):\n",
    "        \"\"\"\n",
    "        Should gather all parameters in a list.\n",
    "        \"\"\"\n",
    "        return [x.getParameters() for x in self.modules]\n",
    "    \n",
    "    def getGradParameters(self):\n",
    "        \"\"\"\n",
    "        Should gather all gradients w.r.t parameters in a list.\n",
    "        \"\"\"\n",
    "        return [x.getGradParameters() for x in self.modules]\n",
    "    \n",
    "    def __repr__(self):\n",
    "        string = \"\".join([str(x) + '\\n' for x in self.modules])\n",
    "        return string\n",
    "    \n",
    "    def __getitem__(self,x):\n",
    "        return self.modules.__getitem__(x)\n",
    "    \n",
    "    def train(self):\n",
    "        \"\"\"\n",
    "        Propagates training parameter through all modules\n",
    "        \"\"\"\n",
    "        self.training = True\n",
    "        for module in self.modules:\n",
    "            module.train()\n",
    "    \n",
    "    def evaluate(self):\n",
    "        \"\"\"\n",
    "        Propagates training parameter through all modules\n",
    "        \"\"\"\n",
    "        self.training = False\n",
    "        for module in self.modules:\n",
    "            module.evaluate()"
   ]
  },
  {
   "cell_type": "markdown",
   "metadata": {
    "colab_type": "text",
    "id": "jtTlqo-0a8ZZ"
   },
   "source": [
    "# Layers"
   ]
  },
  {
   "cell_type": "markdown",
   "metadata": {
    "colab_type": "text",
    "id": "bWB0s6BPa8ZZ"
   },
   "source": [
    "You need to implement everything in this part and make sure the code passes all tests. Read all the comments thoughtfully to ease the pain. Please try not to change the prototypes.\n",
    "\n",
    "Do not forget, that each module should return **AND** store `output` and `gradInput`.\n",
    "\n",
    "The assumption is that `module.backward` is always executed after `module.forward`,\n",
    "so `output` is stored, this would be useful for `SoftMax`. "
   ]
  },
  {
   "cell_type": "markdown",
   "metadata": {
    "colab_type": "text",
    "id": "3SNAGTbda8Za"
   },
   "source": [
    "### Tech note\n",
    "\n",
    "* It is **strongly suggested to use vectorized operations on numpy arrays!** Avoid `for` loops whenever possible. It's very inefficient and might make your networks in Parts 3 and 4 training forever.\n",
    "\n",
    "* Prefer using `np.multiply`, `np.add`, `np.divide`, `np.subtract` instead of `*`,`+`,`/`,`-` for better memory handling. (e.g., `np.add(b,c,out = a)` instead of `a = b + c`)"
   ]
  },
  {
   "cell_type": "markdown",
   "metadata": {
    "colab_type": "text",
    "id": "UNATa4uIa8Za"
   },
   "source": [
    "## 1. Linear transform layer  *[0.5 pts]*\n",
    "Also known as dense layer, fully-connected layer, FC-layer, InnerProductLayer (in caffe), affine transform\n",
    "- input:   **`batch_size x n_feats1`**\n",
    "- output: **`batch_size x n_feats2`**"
   ]
  },
  {
   "cell_type": "code",
   "execution_count": 0,
   "metadata": {
    "colab": {},
    "colab_type": "code",
    "id": "kwywo9Daa8Zb"
   },
   "outputs": [],
   "source": [
    "class Linear(Module):\n",
    "    \"\"\"\n",
    "    A module which applies a linear transformation \n",
    "    A common name is fully-connected layer, InnerProductLayer in caffe. \n",
    "    \n",
    "    The module should work with 2D input of shape (n_samples, n_feature).\n",
    "    \"\"\"\n",
    "    def __init__(self, n_in, n_out):\n",
    "        super(Linear, self).__init__()\n",
    "       \n",
    "        # This is a nice initialization\n",
    "        stdv = 1./np.sqrt(n_in)\n",
    "        self.W = np.random.uniform(-stdv, stdv, size = (n_out, n_in))\n",
    "        self.b = np.random.uniform(-stdv, stdv, size = n_out)\n",
    "        \n",
    "        self.gradW = np.zeros_like(self.W)\n",
    "        self.gradb = np.zeros_like(self.b)\n",
    "        \n",
    "    def updateOutput(self, input):\n",
    "        # self.output = ...\n",
    "        self.output = np.dot(input, self.W.T)+self.b\n",
    "        return self.output\n",
    "    \n",
    "    def updateGradInput(self, input, gradOutput):\n",
    "        # self.gradInput = ...\n",
    "        self.gradInput = np.dot(gradOutput, self.W)\n",
    "        return self.gradInput\n",
    "    \n",
    "    def accGradParameters(self, input, gradOutput):\n",
    "        # self.gradW = ...\n",
    "        # self.gradb = ...\n",
    "        self.gradW = np.dot(input.T, gradOutput).T\n",
    "        self.gradb = gradOutput.sum(axis=0)\n",
    "        \n",
    "    \n",
    "    def zeroGradParameters(self):\n",
    "        self.gradW.fill(0)\n",
    "        self.gradb.fill(0)\n",
    "        \n",
    "    def getParameters(self):\n",
    "        return [self.W, self.b]\n",
    "    \n",
    "    def getGradParameters(self):\n",
    "        return [self.gradW, self.gradb]\n",
    "    \n",
    "    def __repr__(self):\n",
    "        s = self.W.shape\n",
    "        q = 'Linear %d -> %d' %(s[1],s[0])\n",
    "        return q"
   ]
  },
  {
   "cell_type": "markdown",
   "metadata": {
    "colab_type": "text",
    "id": "43OftrPPa8Zd"
   },
   "source": [
    "## 2. SoftMax *[0.5 pts]*\n",
    "- input:   **`batch_size x n_feats`**\n",
    "- output: **`batch_size x n_feats`**\n",
    "\n",
    "$\\text{softmax}(x)_i = \\frac{\\exp x_i} {\\sum_j \\exp x_j}$\n",
    "\n",
    "Recall that $\\text{softmax}(x) == \\text{softmax}(x - \\text{const})$. It makes possible to avoid computing exp() from large argument."
   ]
  },
  {
   "cell_type": "code",
   "execution_count": 0,
   "metadata": {
    "colab": {},
    "colab_type": "code",
    "id": "jHD7sBm0a8Ze"
   },
   "outputs": [],
   "source": [
    "class SoftMax(Module):\n",
    "    def __init__(self):\n",
    "         super(SoftMax, self).__init__()\n",
    "    \n",
    "    def updateOutput(self, input):\n",
    "        # start with normalization for numerical stability\n",
    "        # self.output = ...\n",
    "        #np.subtract(input, x_norm, out = input_normilized)\n",
    "        #self.output = np.divide(np.exp(input_normilized),np.exp(input_normilized).sum(axis = 1, keepdims=True))\n",
    "        x_norm = input - np.max(input, axis = 1, keepdims = True)\n",
    "        self.output = np.divide(np.exp(x_norm), np.sum(np.exp(x_norm), axis = 1, keepdims = True))\n",
    "        \n",
    "        return self.output\n",
    "    \n",
    "    def updateGradInput(self, input, gradOutput):\n",
    "        # self.gradInput = ...\n",
    "        \n",
    "        batch_size, n_feats = input.shape\n",
    "        ones = np.ones_like(input)\n",
    "        i = np.identity(n_feats)\n",
    "        identity = np.repeat(i, batch_size, axis=1 ).reshape(batch_size,n_feats,n_feats)\n",
    "        a = self.output[:,:,None] @ ones[:,None,:]\n",
    "        b = ones[:,:,None] @ self.output[:,None,:]\n",
    "        c = identity - b\n",
    "        soft_max_grad = np.multiply(a, c)\n",
    "        self.gradInput = np.dot(gradOutput, soft_max_grad)\n",
    "        \n",
    "        \"\"\"\n",
    "        J = -self.output[..., None]*self.output[:, None, :]\n",
    "        iy, ix = np.diag_indices_from(J[0])\n",
    "        J[:, iy, ix] = self.output * (1. - self.output)\n",
    "        J = J.sum(axis=1)\n",
    "        self.gradInput = np.multiply(gradOutput, J)\n",
    "        \"\"\"\n",
    "        return self.gradInput\n",
    "        \n",
    "    \n",
    "    def __repr__(self):\n",
    "        return \"SoftMax\""
   ]
  },
  {
   "cell_type": "code",
   "execution_count": 30,
   "metadata": {
    "colab": {
     "base_uri": "https://localhost:8080/",
     "height": 34
    },
    "colab_type": "code",
    "id": "9M4KMHcdMxsF",
    "outputId": "25ecee5c-92aa-467d-a583-3a22c17a222d"
   },
   "outputs": [
    {
     "data": {
      "text/plain": [
       "(3, 9, 1)"
      ]
     },
     "execution_count": 30,
     "metadata": {
      "tags": []
     },
     "output_type": "execute_result"
    }
   ],
   "source": [
    "        n_feats = 3\n",
    "        i = np.identity(n_feats)\n",
    "        identity = np.repeat(i, 3, axis=1 )[:,:,None]\n",
    "        identity.shape"
   ]
  },
  {
   "cell_type": "markdown",
   "metadata": {
    "colab_type": "text",
    "id": "wd0sypSqa8Zg"
   },
   "source": [
    "## 3. LogSoftMax *[0.5 pts]*\n",
    "- input:   **`batch_size x n_feats`**\n",
    "- output: **`batch_size x n_feats`**\n",
    "\n",
    "$\\text{logsoftmax}(x)_i = \\log\\text{softmax}(x)_i = x_i - \\log {\\sum_j \\exp x_j}$\n",
    "\n",
    "The main goal of this layer is to be used in computation of log-likelihood loss."
   ]
  },
  {
   "cell_type": "code",
   "execution_count": 0,
   "metadata": {
    "colab": {},
    "colab_type": "code",
    "id": "bv1Hx_1Na8Zh"
   },
   "outputs": [],
   "source": [
    "class LogSoftMax(Module):\n",
    "    def __init__(self):\n",
    "         super(LogSoftMax, self).__init__()\n",
    "    \n",
    "    def updateOutput(self, input):\n",
    "        # start with normalization for numerical stability\n",
    "        # self.output = ...\n",
    "        log_sum = np.log(np.sum(np.exp(input), axis = 1, keepdims = True ))\n",
    "        self.output = np.subtract(input, log_sum)\n",
    "        return self.output\n",
    "    \n",
    "    def updateGradInput(self, input, gradOutput):\n",
    "        # self.gradInput = ...\n",
    "        E = np.divide(np.exp(input), np.sum(np.exp(input), axis = 1, keepdims = True))\n",
    "        self.gradInput = gradOutput - np.multiply(E, np.sum(gradOutput, axis = 1, keepdims = True))\n",
    "        return self.gradInput\n",
    "    \n",
    "    def __repr__(self):\n",
    "        return \"LogSoftMax\""
   ]
  },
  {
   "cell_type": "markdown",
   "metadata": {
    "colab_type": "text",
    "id": "IwipxN1ca8Zk"
   },
   "source": [
    "## 4. Batch normalization *[1 pts]*\n",
    "One of the most significant recent ideas that impacted NNs a lot is [**Batch normalization**](http://arxiv.org/abs/1502.03167). The idea is simple, yet effective: the features should be whitened ($mean = 0$, $std = 1$) all the way through NN. This improves the convergence for deep models letting it train them for days but not weeks. **You are** to implement the first part of the layer: features normalization. The second part (`ChannelwiseScaling` layer) is implemented below.\n",
    "\n",
    "- input:   **`batch_size x n_feats`**\n",
    "- output: **`batch_size x n_feats`**\n",
    "\n",
    "The layer should work as follows. While training (`self.training == True`) it transforms input as $$y = \\frac{x - \\mu}  {\\sqrt{\\sigma + \\epsilon}}$$\n",
    "where $\\mu$ and $\\sigma$ - mean and variance of feature values in **batch** and $\\epsilon$ is just a small number for numericall stability. Also during training, layer should maintain exponential moving average values for mean and variance: \n",
    "```\n",
    "    self.moving_mean = self.moving_mean * alpha + batch_mean * (1 - alpha)\n",
    "    self.moving_variance = self.moving_variance * alpha + batch_variance * (1 - alpha)\n",
    "```\n",
    "During testing (`self.training == False`) the layer normalizes input using moving_mean and moving_variance. \n",
    "\n",
    "Note that decomposition of batch normalization on normalization itself and channelwise scaling here is just a common **implementation** choice. In general \"batch normalization\" always assumes normalization + scaling.\n",
    "\n",
    "**Hint:** to implement the gradients, you can derive yourself or refer to the original paper; [this guide](https://kevinzakka.github.io/2016/09/14/batch_normalization/) might also be useful."
   ]
  },
  {
   "cell_type": "code",
   "execution_count": 0,
   "metadata": {
    "colab": {},
    "colab_type": "code",
    "id": "zzvOKTNfa8Zk"
   },
   "outputs": [],
   "source": [
    "class BatchNormalization(Module):\n",
    "    EPS = 1e-3\n",
    "    def __init__(self, alpha = 0.):\n",
    "        super(BatchNormalization, self).__init__()\n",
    "        self.alpha = alpha\n",
    "        self.moving_mean = None \n",
    "        self.moving_variance = None\n",
    "        \n",
    "    def updateOutput(self, input):         \n",
    "        if self.training:\n",
    "            batch_mean = np.mean(input, axis=0, keepdims=True)\n",
    "            centered_input = input - batch_mean\n",
    "            batch_variance = np.var(input, axis=0, keepdims=True)\n",
    "            \n",
    "            if self.moving_mean is None:\n",
    "                self.moving_mean = batch_mean\n",
    "            else:\n",
    "                self.moving_mean = self.moving_mean * self.alpha + batch_mean * (1 - self.alpha)\n",
    "            \n",
    "            if self.moving_variance is None:\n",
    "                self.moving_variance = batch_variance\n",
    "            else:\n",
    "                self.moving_variance = self.moving_variance * self.alpha + batch_variance * (1 - self.alpha)\n",
    "            \n",
    "            self.output = centered_input / np.sqrt(batch_variance + self.EPS)\n",
    "        else:\n",
    "            if self.moving_mean is None:\n",
    "                self.output = input\n",
    "            else:\n",
    "                self.output = (input - self.moving_mean) / np.sqrt(self.moving_variance + self.EPS)\n",
    "            \n",
    "        return self.output\n",
    "    \n",
    "    def updateGradInput(self, input, gradOutput):\n",
    "        # self.gradInput = ...\n",
    "        batch_variance = np.var(input, axis=0, keepdims=True)\n",
    "        m = input.shape[0]\n",
    "        self.gradInput = (batch_variance+1e-3)**(-0.5)/m * (m*gradOutput-np.sum(gradOutput, axis = 0)-self.output*np.sum(gradOutput*self.output, axis = 0))\n",
    "\n",
    "        return self.gradInput\n",
    "    \n",
    "    def __repr__(self):\n",
    "        return \"BatchNormalization\""
   ]
  },
  {
   "cell_type": "code",
   "execution_count": 0,
   "metadata": {
    "colab": {},
    "colab_type": "code",
    "id": "_6eOrOLYa8Zn"
   },
   "outputs": [],
   "source": [
    "class ChannelwiseScaling(Module):\n",
    "    \"\"\"\n",
    "       Implements linear transform of input y = \\gamma * x + \\beta\n",
    "       where \\gamma, \\beta - learnable vectors of length x.shape[-1]\n",
    "    \"\"\"\n",
    "    def __init__(self, n_out):\n",
    "        super(ChannelwiseScaling, self).__init__()\n",
    "\n",
    "        stdv = 1./np.sqrt(n_out)\n",
    "        self.gamma = np.random.uniform(-stdv, stdv, size=n_out)\n",
    "        self.beta = np.random.uniform(-stdv, stdv, size=n_out)\n",
    "        \n",
    "        self.gradGamma = np.zeros_like(self.gamma)\n",
    "        self.gradBeta = np.zeros_like(self.beta)\n",
    "\n",
    "    def updateOutput(self, input):\n",
    "        self.output = input * self.gamma + self.beta\n",
    "        return self.output\n",
    "        \n",
    "    def updateGradInput(self, input, gradOutput):\n",
    "        self.gradInput = gradOutput * self.gamma\n",
    "        return self.gradInput\n",
    "    \n",
    "    def accGradParameters(self, input, gradOutput):\n",
    "        self.gradBeta = np.sum(gradOutput, axis=0)\n",
    "        self.gradGamma = np.sum(gradOutput*input, axis=0)\n",
    "    \n",
    "    def zeroGradParameters(self):\n",
    "        self.gradGamma.fill(0)\n",
    "        self.gradBeta.fill(0)\n",
    "        \n",
    "    def getParameters(self):\n",
    "        return [self.gamma, self.beta]\n",
    "    \n",
    "    def getGradParameters(self):\n",
    "        return [self.gradGamma, self.gradBeta]\n",
    "    \n",
    "    def __repr__(self):\n",
    "        return \"ChannelwiseScaling\""
   ]
  },
  {
   "cell_type": "markdown",
   "metadata": {
    "colab_type": "text",
    "id": "aK1IUr5Ja8Zp"
   },
   "source": [
    "Practical notes. If BatchNormalization is placed after a linear transformation layer (including dense layer, convolutions, channelwise scaling) that implements function like `y = weight * x + bias`, than bias adding become useless and could be omitted since its effect will be discarded while batch mean subtraction. If BatchNormalization (followed by `ChannelwiseScaling`) is placed before a layer that propagates scale (including ReLU, LeakyReLU) followed by any linear transformation layer than parameter `gamma` in `ChannelwiseScaling` could be freezed since it could be absorbed into the linear transformation layer."
   ]
  },
  {
   "cell_type": "markdown",
   "metadata": {
    "colab_type": "text",
    "id": "-UBPUuR7a8Zp"
   },
   "source": [
    "## 5. Dropout *[0.5 pts]*\n",
    "Implement [**dropout**](https://www.cs.toronto.edu/~hinton/absps/JMLRdropout.pdf). The idea and implementation is really simple: just multiply the input by $Bernoulli(p)$ mask. Here $p$ is probability of an element to be zeroed.\n",
    "\n",
    "This has proven to be an effective technique for regularization and preventing the co-adaptation of neurons.\n",
    "\n",
    "While training (`self.training == True`) it should sample a mask on each iteration (for every batch), zero out elements and multiply elements by $1 / (1 - p)$. The latter is needed for keeping mean values of features close to mean values which will be in test mode. When testing this module should implement identity transform i.e. `self.output = input`.\n",
    "\n",
    "- input:   **`batch_size x n_feats`**\n",
    "- output: **`batch_size x n_feats`**"
   ]
  },
  {
   "cell_type": "code",
   "execution_count": 0,
   "metadata": {
    "colab": {},
    "colab_type": "code",
    "id": "OzGrNfjna8Zq"
   },
   "outputs": [],
   "source": [
    "class Dropout(Module):\n",
    "    def __init__(self, p=0.5):\n",
    "        super(Dropout, self).__init__()\n",
    "        \n",
    "        self.p = p\n",
    "        self.mask = None\n",
    "        \n",
    "    def updateOutput(self, input):\n",
    "        if self.training:\n",
    "            # self.output = ...           \n",
    "            self.mask = np.random.binomial(1, 1-self.p, size = input.shape)\n",
    "            self.output = np.multiply(input, self.mask)/(1-self.p)\n",
    "        else:\n",
    "            self.output = input\n",
    "\n",
    "        return self.output\n",
    "    \n",
    "    def updateGradInput(self, input, gradOutput):\n",
    "        # self.gradInput = ...\n",
    "        self.gradInput = np.multiply(gradOutput, self.mask)/(1-self.p)\n",
    "        return self.gradInput \n",
    "        \n",
    "    def __repr__(self):\n",
    "        return \"Dropout\""
   ]
  },
  {
   "cell_type": "markdown",
   "metadata": {
    "colab_type": "text",
    "id": "ptQwTSDsa8Zs"
   },
   "source": [
    "# Activation functions"
   ]
  },
  {
   "cell_type": "markdown",
   "metadata": {
    "colab_type": "text",
    "id": "xGJ2BWcwa8Zs"
   },
   "source": [
    "Here's the complete example for the **Rectified Linear Unit** non-linearity (aka **ReLU**): "
   ]
  },
  {
   "cell_type": "code",
   "execution_count": 0,
   "metadata": {
    "colab": {},
    "colab_type": "code",
    "id": "3ESXc_Wea8Zs"
   },
   "outputs": [],
   "source": [
    "class ReLU(Module):\n",
    "    def __init__(self):\n",
    "         super(ReLU, self).__init__()\n",
    "    \n",
    "    def updateOutput(self, input):\n",
    "        # self.output = ...\n",
    "        self.output = np.maximum(input, 0)\n",
    "        return self.output\n",
    "    \n",
    "    def updateGradInput(self, input, gradOutput):\n",
    "        # self.gradInput = ...\n",
    "        self.gradInput = gradOutput * (input > 0)\n",
    "        return self.gradInput\n",
    "    \n",
    "    def __repr__(self):\n",
    "        return \"ReLU\""
   ]
  },
  {
   "cell_type": "markdown",
   "metadata": {
    "colab_type": "text",
    "id": "Cq5viyvXa8Zv"
   },
   "source": [
    "## 6. Leaky ReLU *[0.5 pts]*\n",
    "Implement [**Leaky Rectified Linear Unit**](http://en.wikipedia.org/wiki%2FRectifier_%28neural_networks%29%23Leaky_ReLUs). Expriment with slope. "
   ]
  },
  {
   "cell_type": "code",
   "execution_count": 0,
   "metadata": {
    "colab": {},
    "colab_type": "code",
    "id": "1ahRi2mha8Zv"
   },
   "outputs": [],
   "source": [
    "class LeakyReLU(Module):\n",
    "    def __init__(self, slope = 0.03):\n",
    "        super(LeakyReLU, self).__init__()\n",
    "            \n",
    "        self.slope = slope\n",
    "        \n",
    "    def updateOutput(self, input):\n",
    "        # self.output = ...\n",
    "        self.output = np.add(np.maximum(np.zeros(input.shape), input),self.slope*np.minimum(np.zeros(input.shape), input))\n",
    "        return  self.output\n",
    "    \n",
    "    def updateGradInput(self, input, gradOutput):\n",
    "        # self.gradInput = ...\n",
    "        relu_grad = np.heaviside(input, 0)\n",
    "        relu_grad[relu_grad==0] = self.slope\n",
    "        self.gradInput = np.multiply(gradOutput, relu_grad)\n",
    "        return self.gradInput\n",
    "    \n",
    "    def __repr__(self):\n",
    "        return \"LeakyReLU\""
   ]
  },
  {
   "cell_type": "markdown",
   "metadata": {
    "colab_type": "text",
    "id": "pXGLXksva8Zy"
   },
   "source": [
    "## 7. ELU *[0.5 pts]*\n",
    "Implement [**Exponential Linear Units**](http://arxiv.org/abs/1511.07289) activations."
   ]
  },
  {
   "cell_type": "code",
   "execution_count": 0,
   "metadata": {
    "colab": {},
    "colab_type": "code",
    "id": "-2wjiVMda8Zy"
   },
   "outputs": [],
   "source": [
    "class ELU(Module):\n",
    "    def __init__(self, alpha = 1.0):\n",
    "        super(ELU, self).__init__()\n",
    "        \n",
    "        self.alpha = alpha\n",
    "        \n",
    "    def updateOutput(self, input):\n",
    "        # self.output = ...\n",
    "        #self.output = np.add( np.maximum( np.zeros(input.shape) , input ), self.alpha * ( np.exp( np.minimum( np.zeros(input.shape) , input) )-1. ) )\n",
    "        \"\"\"\n",
    "        for i in range(input.shape[0]):\n",
    "          for j in range(input.shape[1]):\n",
    "            if input[i,j] <= 0:\n",
    "              input[i,j] = self.alpha*(np.exp(input[i,j])-1)\n",
    "        self.output = input\n",
    "        \"\"\"\n",
    "        input_temp = input.copy()\n",
    "        input_temp[input <= 0] = np.multiply(self.alpha, (np.subtract(np.exp(input[input <= 0]), 1)))\n",
    "        self.output = input_temp\n",
    "        return  self.output\n",
    "    \n",
    "    def updateGradInput(self, input, gradOutput):\n",
    "        # self.gradInput = ...\n",
    "        #self.gradInput = np.add(np.maximum(np.zeros(input.shape), input)/input,self.alpha*np.exp(np.minimum(np.zeros(input.shape), input) ))*gradOutput\n",
    "        \"\"\"\n",
    "        for i in range(input.shape[0]):\n",
    "          for j in range(input.shape[1]):\n",
    "            if input[i,j] <= 0:\n",
    "              input[i,j] = self.alpha*(np.exp(input[i,j])-1) + self.alpha\n",
    "            else:\n",
    "              input[i,j] = 1  \n",
    "        self.gradInput = input*gradOutput   \n",
    "        \"\"\"\n",
    "        input_temp = np.add(self.alpha, self.output)\n",
    "        self.gradInput =  np.where(input > 0, 1, input_temp)\n",
    "        self.gradInput = np.multiply(self.gradInput, gradOutput)\n",
    "        return self.gradInput\n",
    "    \n",
    "    def __repr__(self):\n",
    "        return \"ELU\""
   ]
  },
  {
   "cell_type": "markdown",
   "metadata": {
    "colab_type": "text",
    "id": "W3i2DIiaa8Z0"
   },
   "source": [
    "## 8. SoftPlus *[0.5 pts]*\n",
    "Implement [**SoftPlus**](https://en.wikipedia.org/wiki%2FRectifier_%28neural_networks%29) activations. Look, how they look a lot like ReLU."
   ]
  },
  {
   "cell_type": "code",
   "execution_count": 0,
   "metadata": {
    "colab": {},
    "colab_type": "code",
    "id": "2muKDfEca8Z1"
   },
   "outputs": [],
   "source": [
    "import scipy.special\n",
    "\n",
    "class SoftPlus(Module):\n",
    "    def __init__(self):\n",
    "        super(SoftPlus, self).__init__()\n",
    "    \n",
    "    def updateOutput(self, input):\n",
    "        # self.output = ...\n",
    "        self.output = np.log(1+np.exp(input))\n",
    "        return  self.output\n",
    "    \n",
    "    def updateGradInput(self, input, gradOutput):\n",
    "        # self.gradInput = ...\n",
    "        exp_x = np.exp(input)\n",
    "        soft_grad = np.divide(exp_x, 1+exp_x)\n",
    "        self.gradInput = np.multiply(gradOutput, soft_grad)\n",
    "        return self.gradInput\n",
    "    \n",
    "    def __repr__(self):\n",
    "        return \"SoftPlus\""
   ]
  },
  {
   "cell_type": "markdown",
   "metadata": {
    "colab_type": "text",
    "id": "8OzYoO9Da8Z3"
   },
   "source": [
    "# Criterions"
   ]
  },
  {
   "cell_type": "markdown",
   "metadata": {
    "colab_type": "text",
    "id": "_cd3Lzioa8Z4"
   },
   "source": [
    "Criterions are used to score the models answers. "
   ]
  },
  {
   "cell_type": "code",
   "execution_count": 0,
   "metadata": {
    "colab": {},
    "colab_type": "code",
    "id": "ejkX8rOCa8Z4"
   },
   "outputs": [],
   "source": [
    "class Criterion(object):\n",
    "    def __init__ (self):\n",
    "        self.output = None\n",
    "        self.gradInput = None\n",
    "        \n",
    "    def forward(self, input, target):\n",
    "        \"\"\"\n",
    "            Given an input and a target, compute the loss function \n",
    "            associated to the criterion and return the result.\n",
    "            \n",
    "            For consistency this function should not be overrided,\n",
    "            all the code goes in `updateOutput`.\n",
    "        \"\"\"\n",
    "        return self.updateOutput(input, target)\n",
    "\n",
    "    def backward(self, input, target):\n",
    "        \"\"\"\n",
    "            Given an input and a target, compute the gradients of the loss function\n",
    "            associated to the criterion and return the result. \n",
    "\n",
    "            For consistency this function should not be overrided,\n",
    "            all the code goes in `updateGradInput`.\n",
    "        \"\"\"\n",
    "        return self.updateGradInput(input, target)\n",
    "    \n",
    "    def updateOutput(self, input, target):\n",
    "        \"\"\"\n",
    "        Function to override.\n",
    "        \"\"\"\n",
    "        return self.output\n",
    "\n",
    "    def updateGradInput(self, input, target):\n",
    "        \"\"\"\n",
    "        Function to override.\n",
    "        \"\"\"\n",
    "        return self.gradInput   \n",
    "\n",
    "    def __repr__(self):\n",
    "        \"\"\"\n",
    "        Pretty printing. Should be overrided in every module if you want \n",
    "        to have readable description. \n",
    "        \"\"\"\n",
    "        return \"Criterion\""
   ]
  },
  {
   "cell_type": "markdown",
   "metadata": {
    "colab_type": "text",
    "id": "Odokgh7va8Z6"
   },
   "source": [
    "The **MSECriterion**, which is basic L2 norm usually used for regression, is implemented here for you.\n",
    "- input:   **`batch_size x n_feats`**\n",
    "- target: **`batch_size x n_feats`**\n",
    "- output: **scalar**"
   ]
  },
  {
   "cell_type": "code",
   "execution_count": 0,
   "metadata": {
    "colab": {},
    "colab_type": "code",
    "id": "-4yGSo00a8Z7"
   },
   "outputs": [],
   "source": [
    "class MSECriterion(Criterion):\n",
    "    def __init__(self):\n",
    "        super(MSECriterion, self).__init__()\n",
    "        \n",
    "    def updateOutput(self, input, target):   \n",
    "        self.output = np.sum(np.power(input - target,2)) / input.shape[0]\n",
    "        return self.output \n",
    " \n",
    "    def updateGradInput(self, input, target):\n",
    "        self.gradInput  = (input - target) * 2 / input.shape[0]\n",
    "        return self.gradInput\n",
    "\n",
    "    def __repr__(self):\n",
    "        return \"MSECriterion\""
   ]
  },
  {
   "cell_type": "markdown",
   "metadata": {
    "colab_type": "text",
    "id": "UnlACW93a8Z8"
   },
   "source": [
    "## 9. Negative LogLikelihood criterion (numerically unstable) *[0.5 pts]*\n",
    "You task is to implement the **ClassNLLCriterion**. It should implement [multiclass log loss](http://scikit-learn.org/stable/modules/model_evaluation.html#log-loss). Nevertheless there is a sum over `y` (target) in that formula, \n",
    "remember that targets are one-hot encoded. This fact simplifies the computations a lot. Note, that criterions are the only places, where you divide by batch size. Also there is a small hack with adding small number to probabilities to avoid computing log(0).\n",
    "- input:   **`batch_size x n_feats`** - probabilities\n",
    "- target: **`batch_size x n_feats`** - one-hot representation of ground truth\n",
    "- output: **scalar**\n",
    "\n"
   ]
  },
  {
   "cell_type": "code",
   "execution_count": 0,
   "metadata": {
    "colab": {},
    "colab_type": "code",
    "id": "gcsTn4Jwa8Z9"
   },
   "outputs": [],
   "source": [
    "class ClassNLLCriterionUnstable(Criterion):\n",
    "    EPS = 1e-15\n",
    "    def __init__(self):\n",
    "        a = super(ClassNLLCriterionUnstable, self)\n",
    "        super(ClassNLLCriterionUnstable, self).__init__()\n",
    "        \n",
    "    def updateOutput(self, input, target): \n",
    "        # Use this trick to avoid numerical errors\n",
    "        input_clamp = np.clip(input, 1e-15, 1 - 1e-15 )\n",
    "        \n",
    "        # self.output = ...\n",
    "        self.output = np.sum(np.multiply(target, np.log(input_clamp)))/(-input.shape[0])\n",
    "        #self.output = -np.sum((target*np.log(input_clamp)+(1-target)*np.log(1-input_clamp)))\n",
    "        return self.output\n",
    "\n",
    "    def updateGradInput(self, input, target):\n",
    "        # Use this trick to avoid numerical errors\n",
    "        input_clamp = np.clip(input, 1e-15, 1 - 1e-15)\n",
    "                \n",
    "        # self.gradInput = ...\n",
    "        self.gradInput = np.multiply(np.divide(-1, input_clamp), target)/input.shape[0]\n",
    "        #self.gradInput = -np.sum((target/input_clamp-(1-target)/(1-input_clamp)))\n",
    "        return self.gradInput\n",
    "    \n",
    "    def __repr__(self):\n",
    "        return \"ClassNLLCriterionUnstable\""
   ]
  },
  {
   "cell_type": "markdown",
   "metadata": {
    "colab_type": "text",
    "id": "ypfVO-Qha8aA"
   },
   "source": [
    "## 10. Negative LogLikelihood criterion (numerically stable) *[0.5 pts]*\n",
    "- input:   **`batch_size x n_feats`** - log probabilities\n",
    "- target: **`batch_size x n_feats`** - one-hot representation of ground truth\n",
    "- output: **scalar**\n",
    "\n",
    "Task is similar to the previous one, but now the criterion input is the output of log-softmax layer. This decomposition allows us to avoid problems with computation of forward and backward of log()."
   ]
  },
  {
   "cell_type": "code",
   "execution_count": 0,
   "metadata": {
    "colab": {},
    "colab_type": "code",
    "id": "3yUr5mJ-a8aA"
   },
   "outputs": [],
   "source": [
    "class ClassNLLCriterion(Criterion):\n",
    "    def __init__(self):\n",
    "        a = super(ClassNLLCriterion, self)\n",
    "        super(ClassNLLCriterion, self).__init__()\n",
    "        \n",
    "    def updateOutput(self, input, target): \n",
    "        # self.output = ...\n",
    "        self.output = np.sum(np.multiply(target, input))/-input.shape[0]\n",
    "        return self.output\n",
    "\n",
    "    def updateGradInput(self, input, target):\n",
    "        # self.gradInput = ...\n",
    "        self.gradInput = np.multiply(-1/input.shape[0], target)\n",
    "        return self.gradInput\n",
    "    \n",
    "    def __repr__(self):\n",
    "        return \"ClassNLLCriterion\""
   ]
  },
  {
   "cell_type": "markdown",
   "metadata": {
    "colab_type": "text",
    "id": "5YQG6qx2a8aD"
   },
   "source": [
    "# Optimizers"
   ]
  },
  {
   "cell_type": "markdown",
   "metadata": {
    "colab_type": "text",
    "id": "Un9dyIRta8aE"
   },
   "source": [
    "### SGD optimizer with momentum\n",
    "- `variables` - list of lists of variables (one list per layer)\n",
    "- `gradients` - list of lists of current gradients (same structure as for `variables`, one array for each var)\n",
    "- `config` - dict with optimization parameters (`learning_rate` and `momentum`)\n",
    "- `state` - dict with optimizator state (used to save accumulated gradients)"
   ]
  },
  {
   "cell_type": "code",
   "execution_count": 0,
   "metadata": {
    "colab": {},
    "colab_type": "code",
    "id": "ECQLbTG9a8aE"
   },
   "outputs": [],
   "source": [
    "def sgd_momentum(variables, gradients, config, state):  \n",
    "    # 'variables' and 'gradients' have complex structure, accumulated_grads will be stored in a simpler one\n",
    "    state.setdefault('accumulated_grads', {})\n",
    "    \n",
    "    var_index = 0 \n",
    "    for current_layer_vars, current_layer_grads in zip(variables, gradients): \n",
    "        for current_var, current_grad in zip(current_layer_vars, current_layer_grads):\n",
    "            \n",
    "            old_grad = state['accumulated_grads'].setdefault(var_index, np.zeros_like(current_grad))\n",
    "            \n",
    "            np.add(config['momentum'] * old_grad, config['learning_rate'] * current_grad, out=old_grad)\n",
    "            \n",
    "            current_var -= old_grad\n",
    "            var_index += 1     "
   ]
  },
  {
   "cell_type": "markdown",
   "metadata": {
    "colab_type": "text",
    "id": "NAMVnvsZa8aG"
   },
   "source": [
    "## 12. [Adam](https://arxiv.org/pdf/1412.6980.pdf) optimizer *[0.5 pts]*\n",
    "- `variables` - list of lists of variables (one list per layer)\n",
    "- `gradients` - list of lists of current gradients (same structure as for `variables`, one array for each var)\n",
    "- `config` - dict with optimization parameters (`learning_rate`, `beta1`, `beta2`, `epsilon`)\n",
    "- `state` - dict with optimizator state (used to save 1st and 2nd moment for vars)\n",
    "\n",
    "Formulas for optimizer:\n",
    "\n",
    "Current step learning rate: $$\\text{lr}_t = \\text{learning_rate} * \\frac{\\sqrt{1-\\beta_2^t}} {1-\\beta_1^t}$$\n",
    "First moment of var: $$\\mu_t = \\beta_1 * \\mu_{t-1} + (1 - \\beta_1)*g$$ \n",
    "Second moment of var: $$v_t = \\beta_2 * v_{t-1} + (1 - \\beta_2)*g*g$$\n",
    "New values of var: $$\\text{variable} = \\text{variable} - \\text{lr}_t * \\frac{m_t}{\\sqrt{v_t} + \\epsilon}$$"
   ]
  },
  {
   "cell_type": "code",
   "execution_count": 0,
   "metadata": {
    "colab": {},
    "colab_type": "code",
    "id": "DCOI1NOma8aH"
   },
   "outputs": [],
   "source": [
    "def adam_optimizer(variables, gradients, config, state):  \n",
    "    # 'variables' and 'gradients' have complex structure, accumulated_grads will be stored in a simpler one\n",
    "    state.setdefault('m', {})  # first moment vars\n",
    "    state.setdefault('v', {})  # second moment vars\n",
    "    state.setdefault('t', 0)   # timestamp\n",
    "    state['t'] += 1\n",
    "    for k in ['learning_rate', 'beta1', 'beta2', 'epsilon']:\n",
    "        assert k in config, config.keys()\n",
    "    \n",
    "    var_index = 0 \n",
    "    lr_t = config['learning_rate'] * np.sqrt(1 - config['beta2']**state['t']) / (1 - config['beta1']**state['t'])\n",
    "    for current_layer_vars, current_layer_grads in zip(variables, gradients): \n",
    "        for current_var, current_grad in zip(current_layer_vars, current_layer_grads):\n",
    "            var_first_moment = state['m'].setdefault(var_index, np.zeros_like(current_grad))\n",
    "            var_second_moment = state['v'].setdefault(var_index, np.zeros_like(current_grad))\n",
    "            \n",
    "            # <YOUR CODE> #######################################\n",
    "            # update `current_var_first_moment`, `var_second_moment` and `current_var` values\n",
    "\n",
    "            # update `current_var_first_moment`\n",
    "            np.add(config['beta1']*var_first_moment,(1-config['beta1'])*current_grad,out=var_first_moment)\n",
    "            # update `var_second_moment`\n",
    "            np.add(config['beta2']*var_second_moment,(1-config['beta2'])*np.power(current_grad, 2),out=var_second_moment)\n",
    "            # update `current_var`\n",
    "            current_var -= lr_t*(np.divide(var_first_moment,(np.power(var_second_moment, 1/2) + config['epsilon'])))\n",
    "            \n",
    "            # #####################################\n",
    "            \n",
    "            # small checks that you've updated the state; use np.add for rewriting np.arrays values\n",
    "            assert var_first_moment is state['m'].get(var_index)\n",
    "            assert var_second_moment is state['v'].get(var_index)\n",
    "            var_index += 1\n"
   ]
  },
  {
   "cell_type": "markdown",
   "metadata": {
    "colab_type": "text",
    "id": "xupqMAqOa8aJ"
   },
   "source": [
    "## Testing the modules\n",
    "\n",
    "Please run the following code provided for you to check the correctness of the implementations. It is strongly advised to run this code frequently while completing the homework.\n",
    "\n",
    "You don't need to modify the cells in this section."
   ]
  },
  {
   "cell_type": "code",
   "execution_count": 0,
   "metadata": {
    "colab": {},
    "colab_type": "code",
    "id": "YWamfPNLa8aJ"
   },
   "outputs": [],
   "source": [
    "from test_modules import make_tester\n",
    "import unittest"
   ]
  },
  {
   "cell_type": "code",
   "execution_count": 0,
   "metadata": {
    "colab": {},
    "colab_type": "code",
    "id": "7KHha1rKa8aN"
   },
   "outputs": [],
   "source": [
    "TestLayers = make_tester({\n",
    "    'Sequential': Sequential,\n",
    "    'Linear': Linear,\n",
    "    'SoftMax': SoftMax,\n",
    "    'LogSoftMax': LogSoftMax,\n",
    "    'BatchNormalization': BatchNormalization,\n",
    "    'ChannelwiseScaling': ChannelwiseScaling,\n",
    "    'Dropout': Dropout,\n",
    "    'ReLU': ReLU,\n",
    "    'LeakyReLU': LeakyReLU,\n",
    "    'ELU': ELU,\n",
    "    'SoftPlus': SoftPlus,\n",
    "    'ClassNLLCriterion': ClassNLLCriterion,\n",
    "    'ClassNLLCriterionUnstable': ClassNLLCriterionUnstable,\n",
    "    'adam_optimizer': adam_optimizer,\n",
    "})"
   ]
  },
  {
   "cell_type": "code",
   "execution_count": 0,
   "metadata": {
    "colab": {},
    "colab_type": "code",
    "id": "6GG7VoT2a8aP"
   },
   "outputs": [],
   "source": [
    "suite = unittest.TestLoader().loadTestsFromTestCase(TestLayers)"
   ]
  },
  {
   "cell_type": "code",
   "execution_count": 48,
   "metadata": {
    "colab": {
     "base_uri": "https://localhost:8080/",
     "height": 476
    },
    "colab_type": "code",
    "id": "mAi_054xa8aS",
    "outputId": "03b05b7e-9be9-4724-db02-986003e1354f"
   },
   "outputs": [
    {
     "name": "stderr",
     "output_type": "stream",
     "text": [
      "test_BatchNormalization (test_modules.make_tester.<locals>._tester) ... ok\n",
      "test_ClassNLLCriterion (test_modules.make_tester.<locals>._tester) ... ok\n",
      "test_ClassNLLCriterionUnstable (test_modules.make_tester.<locals>._tester) ... ok\n",
      "test_Dropout (test_modules.make_tester.<locals>._tester) ... ok\n",
      "test_ELU (test_modules.make_tester.<locals>._tester) ... ok\n",
      "test_LeakyReLU (test_modules.make_tester.<locals>._tester) ... ok\n",
      "test_Linear (test_modules.make_tester.<locals>._tester) ... ok\n",
      "test_LogSoftMax (test_modules.make_tester.<locals>._tester) ... ok\n",
      "test_Sequential_BatchNorm_ChannelwiseScaling (test_modules.make_tester.<locals>._tester) ... ok\n",
      "test_Sequential_Linear_LeakyReLU (test_modules.make_tester.<locals>._tester) ... ok\n",
      "test_SoftMax (test_modules.make_tester.<locals>._tester) ... FAIL\n",
      "test_SoftPlus (test_modules.make_tester.<locals>._tester) ... ok\n",
      "test_adam_optimizer (test_modules.make_tester.<locals>._tester) ... ok\n",
      "\n",
      "======================================================================\n",
      "FAIL: test_SoftMax (test_modules.make_tester.<locals>._tester)\n",
      "----------------------------------------------------------------------\n",
      "Traceback (most recent call last):\n",
      "  File \"/content/test_modules.py\", line 78, in test_SoftMax\n",
      "    self.assertTrue(np.allclose(torch_layer_grad_var.data.numpy(), custom_layer_grad, atol=1e-3))\n",
      "AssertionError: False is not true\n",
      "\n",
      "----------------------------------------------------------------------\n",
      "Ran 13 tests in 0.810s\n",
      "\n",
      "FAILED (failures=1)\n"
     ]
    },
    {
     "data": {
      "text/plain": [
       "<unittest.runner.TextTestResult run=13 errors=0 failures=1>"
      ]
     },
     "execution_count": 48,
     "metadata": {
      "tags": []
     },
     "output_type": "execute_result"
    }
   ],
   "source": [
    "unittest.TextTestRunner(verbosity=2).run(suite)"
   ]
  },
  {
   "cell_type": "markdown",
   "metadata": {
    "colab_type": "text",
    "id": "nfCx5135a8aU"
   },
   "source": [
    "# Part 3: Training your first network"
   ]
  },
  {
   "cell_type": "code",
   "execution_count": 0,
   "metadata": {
    "colab": {},
    "colab_type": "code",
    "id": "FGmQua2ba8aV"
   },
   "outputs": [],
   "source": [
    "%matplotlib inline\n",
    "from time import time, sleep\n",
    "import numpy as np\n",
    "import matplotlib.pyplot as plt\n",
    "from IPython import display"
   ]
  },
  {
   "cell_type": "markdown",
   "metadata": {
    "colab_type": "text",
    "id": "kS-_C42za8aY"
   },
   "source": [
    "# Toy example\n",
    "\n",
    "Use this example to debug your code, start with logistic regression and then test other layers. You do not need to change anything here. This code is provided for you to test the layers. Also it is easy to use this code in MNIST task."
   ]
  },
  {
   "cell_type": "code",
   "execution_count": 50,
   "metadata": {
    "colab": {
     "base_uri": "https://localhost:8080/",
     "height": 282
    },
    "colab_type": "code",
    "id": "ysP1ShBba8aY",
    "outputId": "86a36554-d644-410b-9048-6bcbe0b73e4b"
   },
   "outputs": [
    {
     "data": {
      "text/plain": [
       "<matplotlib.collections.PathCollection at 0x7ff0ed7fbcf8>"
      ]
     },
     "execution_count": 50,
     "metadata": {
      "tags": []
     },
     "output_type": "execute_result"
    },
    {
     "data": {
      "image/png": "[encoded data removed]",
      "text/plain": [
       "<Figure size 432x288 with 1 Axes>"
      ]
     },
     "metadata": {
      "needs_background": "light",
      "tags": []
     },
     "output_type": "display_data"
    }
   ],
   "source": [
    "# Generate some data\n",
    "N = 500\n",
    "\n",
    "X1 = np.random.randn(N,2 ) + np.array([2,2])\n",
    "X2 = np.random.randn(N,2) + np.array([-2,-2])\n",
    "\n",
    "Y = np.concatenate([np.ones(N),np.zeros(N)])[:,None]\n",
    "Y = np.hstack([Y, 1-Y])\n",
    "\n",
    "X = np.vstack([X1,X2])\n",
    "plt.scatter(X[:,0], X[:,1], c=Y[:,0], edgecolors= 'none')"
   ]
  },
  {
   "cell_type": "markdown",
   "metadata": {
    "colab_type": "text",
    "id": "CzQ922-6a8aa"
   },
   "source": [
    "Define a **logistic regression** for debugging. "
   ]
  },
  {
   "cell_type": "code",
   "execution_count": 51,
   "metadata": {
    "colab": {
     "base_uri": "https://localhost:8080/",
     "height": 68
    },
    "colab_type": "code",
    "id": "-4qgoszta8aa",
    "outputId": "1f939f82-792a-4729-90e3-6120ed94e2e2"
   },
   "outputs": [
    {
     "name": "stdout",
     "output_type": "stream",
     "text": [
      "Linear 2 -> 2\n",
      "LogSoftMax\n",
      "\n"
     ]
    }
   ],
   "source": [
    "net = Sequential()\n",
    "net.add(Linear(2, 2))\n",
    "net.add(LogSoftMax())\n",
    "\n",
    "criterion = ClassNLLCriterion()\n",
    "\n",
    "print(net)\n",
    "\n",
    "# Test something like this then \n",
    "\n",
    "# net = Sequential()\n",
    "# net.add(Linear(2, 4))\n",
    "# net.add(ReLU())\n",
    "# net.add(Linear(4, 2))\n",
    "# net.add(LogSoftMax())"
   ]
  },
  {
   "cell_type": "markdown",
   "metadata": {
    "colab_type": "text",
    "id": "MLzg0NH4a8ac"
   },
   "source": [
    "Start with batch_size = 1000 to make sure every step lowers the loss, then try stochastic version."
   ]
  },
  {
   "cell_type": "code",
   "execution_count": 0,
   "metadata": {
    "colab": {},
    "colab_type": "code",
    "id": "mW63cLp-a8ad"
   },
   "outputs": [],
   "source": [
    "# Iptimizer params\n",
    "optimizer_config = {'learning_rate' : 1e-1, 'momentum': 0.9}\n",
    "optimizer_state = {}\n",
    "\n",
    "# Looping params\n",
    "n_epoch = 20\n",
    "batch_size = 128"
   ]
  },
  {
   "cell_type": "code",
   "execution_count": 0,
   "metadata": {
    "colab": {},
    "colab_type": "code",
    "id": "bCyZFPGHa8af"
   },
   "outputs": [],
   "source": [
    "# batch generator\n",
    "def get_batches(dataset, batch_size):\n",
    "    X, Y = dataset\n",
    "    n_samples = X.shape[0]\n",
    "        \n",
    "    # Shuffle at the start of epoch\n",
    "    indices = np.arange(n_samples)\n",
    "    np.random.shuffle(indices)\n",
    "    \n",
    "    for start in range(0, n_samples, batch_size):\n",
    "        end = min(start + batch_size, n_samples)\n",
    "        \n",
    "        batch_idx = indices[start:end]\n",
    "    \n",
    "        yield X[batch_idx], Y[batch_idx]"
   ]
  },
  {
   "cell_type": "markdown",
   "metadata": {
    "colab_type": "text",
    "id": "8LivUqNla8ah"
   },
   "source": [
    "### Train"
   ]
  },
  {
   "cell_type": "markdown",
   "metadata": {
    "colab_type": "text",
    "id": "G18bi1s4a8ai"
   },
   "source": [
    "Basic training loop. Examine it."
   ]
  },
  {
   "cell_type": "code",
   "execution_count": 30,
   "metadata": {
    "colab": {
     "base_uri": "https://localhost:8080/",
     "height": 421
    },
    "colab_type": "code",
    "id": "FPt1OX2fa8aj",
    "outputId": "4179a124-033d-4fe3-c082-1d784cca83bf"
   },
   "outputs": [
    {
     "data": {
      "image/png": "[encoded data removed]",
      "text/plain": [
       "<Figure size 576x432 with 1 Axes>"
      ]
     },
     "metadata": {
      "needs_background": "light",
      "tags": []
     },
     "output_type": "display_data"
    },
    {
     "name": "stdout",
     "output_type": "stream",
     "text": [
      "Current loss: 0.000061\n"
     ]
    }
   ],
   "source": [
    "loss_history = []\n",
    "\n",
    "for i in range(n_epoch):\n",
    "    for x_batch, y_batch in get_batches((X, Y), batch_size):\n",
    "        \n",
    "        net.zeroGradParameters()\n",
    "        \n",
    "        # Forward\n",
    "        predictions = net.forward(x_batch)\n",
    "        loss = criterion.forward(predictions, y_batch)\n",
    "    \n",
    "        # Backward\n",
    "        dp = criterion.backward(predictions, y_batch)\n",
    "        net.backward(x_batch, dp)\n",
    "        \n",
    "        # Update weights\n",
    "        sgd_momentum(net.getParameters(), \n",
    "                     net.getGradParameters(), \n",
    "                     optimizer_config,\n",
    "                     optimizer_state)      \n",
    "        \n",
    "        loss_history.append(loss)\n",
    "\n",
    "    # Visualize\n",
    "    display.clear_output(wait=True)\n",
    "    plt.figure(figsize=(8, 6))\n",
    "        \n",
    "    plt.title(\"Training loss\")\n",
    "    plt.xlabel(\"#iteration\")\n",
    "    plt.ylabel(\"loss\")\n",
    "    plt.plot(loss_history, 'b')\n",
    "    plt.show()\n",
    "    \n",
    "    print('Current loss: %f' % loss)    "
   ]
  },
  {
   "cell_type": "markdown",
   "metadata": {
    "colab_type": "text",
    "id": "IYwmffS5a8am"
   },
   "source": [
    "# Digit classification "
   ]
  },
  {
   "cell_type": "markdown",
   "metadata": {
    "colab_type": "text",
    "id": "KumeYNeHa8am"
   },
   "source": [
    "We will be using old good [MNIST](http://yann.lecun.com/exdb/mnist/) as our dataset."
   ]
  },
  {
   "cell_type": "code",
   "execution_count": 0,
   "metadata": {
    "colab": {},
    "colab_type": "code",
    "id": "0HHP1hn2a8am"
   },
   "outputs": [],
   "source": [
    "import mnist\n",
    "X_train, y_train, X_val, y_val, X_test, y_test = mnist.load_dataset()"
   ]
  },
  {
   "cell_type": "markdown",
   "metadata": {
    "colab_type": "text",
    "id": "KrdeVlm7a8ap"
   },
   "source": [
    "One-hot encode the labels first."
   ]
  },
  {
   "cell_type": "code",
   "execution_count": 0,
   "metadata": {
    "colab": {},
    "colab_type": "code",
    "id": "S73tW2u3a8ap"
   },
   "outputs": [],
   "source": [
    "from sklearn.preprocessing import OneHotEncoder\n",
    "\n",
    "ohot_encoder = OneHotEncoder(categories=[range(10)])\n",
    "\n",
    "y_train_hot = np.asarray(ohot_encoder.fit_transform(y_train.reshape(-1, 1)).todense())\n",
    "y_val_hot = np.asarray(ohot_encoder.transform(y_val.reshape(-1, 1)).todense())\n",
    "y_test_hot = np.asarray(ohot_encoder.transform(y_test.reshape(-1, 1)).todense())"
   ]
  },
  {
   "cell_type": "code",
   "execution_count": 0,
   "metadata": {
    "colab": {},
    "colab_type": "code",
    "id": "7ge6_tVWa8ar"
   },
   "outputs": [],
   "source": [
    "X_train = X_train.reshape(X_train.shape[0], -1)\n",
    "X_val = X_val.reshape(X_val.shape[0], -1)\n",
    "X_test = X_test.reshape(X_test.shape[0], -1)"
   ]
  },
  {
   "cell_type": "markdown",
   "metadata": {
    "colab_type": "text",
    "id": "HNdhDBgLa8aw"
   },
   "source": [
    "-  *[2 pts]* **Compare** `ReLU`, `ELU`, `LeakyReLU`, `SoftPlus` activation functions. \n",
    "Use an architecture of your choice for the comparison (no need to pick the best optimizer parameters for now). Write your personal opinion on the activation functions, think about computation times too. Plot the loss curves from activation functions comparison on a single plot. Please find a scale (log?) when the lines are distinguishable, do not forget about naming the axes, the plot should be informative. \n",
    "\n",
    "- *[1 pts]* **Try** inserting `BatchNormalization` (followed by `ChannelwiseScaling`) between `Linear` module and activation functions. For all activation functions, plot versions with and without `BatchNormalization` on a single plot. Please find a scale (log?) when the lines are distinguishable, do not forget about naming the axes, the plot should be goodlooking.  Does `BatchNormalization` help?\n",
    "\n",
    "- *[1 pts]* Plot the losses for two networks: one trained by momentum_sgd, another one trained by Adam. Which one performs better?  \n",
    "\n",
    "- *[2 pts]* Increase the number of parameters in the network. Try inserting the Dropout layer. Compare the validation performance and the gap between test and validation performances for the two experiments (with and without Dropout). Compare the loss plots. Which one converges slower?\n"
   ]
  },
  {
   "cell_type": "code",
   "execution_count": 0,
   "metadata": {
    "colab": {},
    "colab_type": "code",
    "id": "2wf2G2MNL8Oj"
   },
   "outputs": [],
   "source": [
    "# Iptimizer params\n",
    "optimizer_config = {'learning_rate' : 1e-1, 'momentum': 0.9}\n",
    "optimizer_state = {}\n",
    "\n",
    "# Looping params\n",
    "n_epoch = 20\n",
    "batch_size = 1000"
   ]
  },
  {
   "cell_type": "code",
   "execution_count": 0,
   "metadata": {
    "colab": {},
    "colab_type": "code",
    "id": "KNRKshSBMFF6"
   },
   "outputs": [],
   "source": [
    "# batch generator\n",
    "def get_batches(dataset, batch_size):\n",
    "    X, Y = dataset\n",
    "    n_samples = X.shape[0]\n",
    "        \n",
    "    # Shuffle at the start of epoch\n",
    "    indices = np.arange(n_samples)\n",
    "    np.random.shuffle(indices)\n",
    "    \n",
    "    for start in range(0, n_samples, batch_size):\n",
    "        end = min(start + batch_size, n_samples)\n",
    "        \n",
    "        batch_idx = indices[start:end]\n",
    "    \n",
    "        yield X[batch_idx], Y[batch_idx]"
   ]
  },
  {
   "cell_type": "code",
   "execution_count": 0,
   "metadata": {
    "colab": {},
    "colab_type": "code",
    "id": "quMljrRLvkqg"
   },
   "outputs": [],
   "source": [
    "import time"
   ]
  },
  {
   "cell_type": "code",
   "execution_count": 83,
   "metadata": {
    "colab": {
     "base_uri": "https://localhost:8080/",
     "height": 472
    },
    "colab_type": "code",
    "id": "BUYJEdyTMLEx",
    "outputId": "36da7205-36ab-4dbb-bf0d-f753e1590c2d"
   },
   "outputs": [
    {
     "data": {
      "image/png": "[encoded data removed]",
      "text/plain": [
       "<Figure size 576x432 with 1 Axes>"
      ]
     },
     "metadata": {
      "needs_background": "light",
      "tags": []
     },
     "output_type": "display_data"
    },
    {
     "name": "stdout",
     "output_type": "stream",
     "text": [
      "Mean epoch time for ReLU: 4.221955215930938\n",
      "Mean epoch time for ELU: 4.90636123418808\n",
      "Mean epoch time for LeakyReLU: 4.604252517223358\n",
      "Mean epoch time for SoftPlus: 5.898458254337311\n"
     ]
    }
   ],
   "source": [
    "\n",
    "global_history = []\n",
    "mean_epoch_time = []\n",
    "for activation, color in zip([ReLU(), ELU(), LeakyReLU(), SoftPlus()], ['b','g','r','y']):\n",
    "  loss_history = []\n",
    "  net = Sequential()\n",
    "  net.add(Linear(784, 392))\n",
    "  net.add(activation)\n",
    "  net.add(Linear(392, 10))\n",
    "  net.add(LogSoftMax())\n",
    "  epoch_time = []\n",
    "  for i in range(n_epoch):\n",
    "      start = time.time()\n",
    "      for x_batch, y_batch in get_batches((X_train, y_train_hot), batch_size):\n",
    "          \n",
    "          net.zeroGradParameters()\n",
    "          \n",
    "          # Forward\n",
    "          predictions = net.forward(x_batch)\n",
    "          loss = criterion.forward(predictions, y_batch)\n",
    "      \n",
    "          # Backward\n",
    "          dp = criterion.backward(predictions, y_batch)\n",
    "          net.backward(x_batch, dp)\n",
    "          \n",
    "          # Update weights\n",
    "          sgd_momentum(net.getParameters(), \n",
    "                      net.getGradParameters(), \n",
    "                      optimizer_config,\n",
    "                      optimizer_state)      \n",
    "          \n",
    "          loss_history.append(loss)\n",
    "      end = time.time()\n",
    "      epoch_time.append(end-start)\n",
    "\n",
    "      # Visualize\n",
    "      display.clear_output(wait=True)\n",
    "      plt.figure(figsize=(8, 6))\n",
    "          \n",
    "      plt.title(\"Training loss\")\n",
    "      plt.xlabel(\"#iteration\")\n",
    "      plt.ylabel(\"loss\")\n",
    "      plt.plot(loss_history, color)\n",
    "      plt.show()\n",
    "      \n",
    "      print('Current loss: %f' % loss)\n",
    "  mean_epoch_time.append(np.mean(epoch_time))\n",
    "  global_history.append(loss_history) \n",
    "display.clear_output(wait=True)\n",
    "plt.figure(figsize=(8, 6))\n",
    "    \n",
    "plt.title(\"Training loss\")\n",
    "plt.xlabel(\"#iteration\")\n",
    "plt.ylabel(\"loss\")\n",
    "plt.yscale(\"log\")\n",
    "plt.plot(global_history[0], 'b')\n",
    "plt.plot(global_history[1], 'g')\n",
    "plt.plot(global_history[2], 'r')\n",
    "plt.plot(global_history[3], 'y')\n",
    "plt.legend(('ReLU', 'ELU', 'LeakyReLU', 'SoftPlus'))\n",
    "plt.show()\n",
    "print('Mean epoch time for ReLU:', mean_epoch_time[0])\n",
    "print('Mean epoch time for ELU:', mean_epoch_time[1])\n",
    "print('Mean epoch time for LeakyReLU:', mean_epoch_time[2])\n",
    "print('Mean epoch time for SoftPlus:', mean_epoch_time[3])"
   ]
  },
  {
   "cell_type": "markdown",
   "metadata": {
    "colab_type": "text",
    "id": "bjJRFAHE5rDM"
   },
   "source": [
    "As we can see, the loss for LeakyReLU and ReLU decreasing faster then for two other activation functions. ELU is on the third place, because initially it decreases at the same rate with two first, but then slowing down and becomes as slow as the fourth function, SoftPlus. In terms of time the SoftPlus also showed its worst and the best one was ReLu."
   ]
  },
  {
   "cell_type": "markdown",
   "metadata": {
    "colab_type": "text",
    "id": "_MoY6bgDPcQa"
   },
   "source": [
    "Let's conduct a training for the batch normalization case"
   ]
  },
  {
   "cell_type": "code",
   "execution_count": 0,
   "metadata": {
    "colab": {
     "base_uri": "https://localhost:8080/",
     "height": 422
    },
    "colab_type": "code",
    "id": "B_fF1Shv2PU9",
    "outputId": "1269e27e-54b2-45c6-bfc8-48862018f8d7"
   },
   "outputs": [
    {
     "data": {
      "image/png": "[encoded data removed]",
      "text/plain": [
       "<Figure size 576x432 with 1 Axes>"
      ]
     },
     "metadata": {
      "needs_background": "light",
      "tags": []
     },
     "output_type": "display_data"
    },
    {
     "name": "stdout",
     "output_type": "stream",
     "text": [
      "Current loss: 0.040264\n"
     ]
    }
   ],
   "source": [
    "n_epoch = 20\n",
    "batch_size = 1000\n",
    "global_history_normalised = []\n",
    "mean_epoch_time = []\n",
    "for activation, color in zip([ReLU(), ELU(), LeakyReLU(), SoftPlus()], ['b','g','r','y']):\n",
    "  loss_history = []\n",
    "  net = Sequential()\n",
    "  net.add(Linear(784, 392))\n",
    "  net.add(BatchNormalization())\n",
    "  net.add(ChannelwiseScaling(392))\n",
    "  net.add(activation)\n",
    "  net.add(Linear(392, 10))\n",
    "  net.add(LogSoftMax())\n",
    "  epoch_time = []\n",
    "  for i in range(n_epoch):\n",
    "      start = time.time()\n",
    "      for x_batch, y_batch in get_batches((X_train, y_train_hot), batch_size):\n",
    "          \n",
    "          net.zeroGradParameters()\n",
    "          \n",
    "          # Forward\n",
    "          predictions = net.forward(x_batch)\n",
    "          loss = criterion.forward(predictions, y_batch)\n",
    "      \n",
    "          # Backward\n",
    "          dp = criterion.backward(predictions, y_batch)\n",
    "          net.backward(x_batch, dp)\n",
    "          \n",
    "          # Update weights\n",
    "          sgd_momentum(net.getParameters(), \n",
    "                      net.getGradParameters(), \n",
    "                      optimizer_config,\n",
    "                      optimizer_state)      \n",
    "          \n",
    "          loss_history.append(loss)\n",
    "      end = time.time()\n",
    "      epoch_time.append(end-start)\n",
    "\n",
    "      # Visualize\n",
    "      display.clear_output(wait=True)\n",
    "      plt.figure(figsize=(8, 6))\n",
    "          \n",
    "      plt.title(\"Training loss\")\n",
    "      plt.xlabel(\"#iteration\")\n",
    "      plt.ylabel(\"loss\")\n",
    "      plt.plot(loss_history, color)\n",
    "      plt.show()\n",
    "      \n",
    "      print('Current loss: %f' % loss)\n",
    "  mean_epoch_time.append(np.mean(epoch_time))\n",
    "  global_history_normalised.append(loss_history) \n"
   ]
  },
  {
   "cell_type": "markdown",
   "metadata": {
    "colab_type": "text",
    "id": "6JWbud1bPoHw"
   },
   "source": [
    "## The plots, comparing loss curves for the networks with different activation functions with and without batch normalization"
   ]
  },
  {
   "cell_type": "code",
   "execution_count": 0,
   "metadata": {
    "colab": {
     "base_uri": "https://localhost:8080/",
     "height": 404
    },
    "colab_type": "code",
    "id": "Lljpynon72Qi",
    "outputId": "1c3b1ac7-846d-42a8-b42d-b19f9c73a9d4"
   },
   "outputs": [
    {
     "data": {
      "image/png": "[encoded data removed]",
      "text/plain": [
       "<Figure size 576x432 with 1 Axes>"
      ]
     },
     "metadata": {
      "needs_background": "light",
      "tags": []
     },
     "output_type": "display_data"
    }
   ],
   "source": [
    "display.clear_output(wait=True)\n",
    "plt.figure(figsize=(8, 6))\n",
    "    \n",
    "plt.title(\"Training loss for ReLU\")\n",
    "plt.xlabel(\"#iteration\")\n",
    "plt.ylabel(\"loss\")\n",
    "plt.yscale(\"log\")\n",
    "plt.plot(global_history[0], 'b')\n",
    "plt.plot(global_history_normalised[0], 'g')\n",
    "plt.legend(('ReLU', 'ReLU+Batch normalization'))\n",
    "plt.show()"
   ]
  },
  {
   "cell_type": "code",
   "execution_count": 0,
   "metadata": {
    "colab": {
     "base_uri": "https://localhost:8080/",
     "height": 404
    },
    "colab_type": "code",
    "id": "4GI6WgYpOQBE",
    "outputId": "fe1c6356-4c33-4e94-e1f8-4fab755d855e"
   },
   "outputs": [
    {
     "data": {
      "image/png": "[encoded data removed]",
      "text/plain": [
       "<Figure size 576x432 with 1 Axes>"
      ]
     },
     "metadata": {
      "needs_background": "light",
      "tags": []
     },
     "output_type": "display_data"
    }
   ],
   "source": [
    "display.clear_output(wait=True)\n",
    "plt.figure(figsize=(8, 6))\n",
    "    \n",
    "plt.title(\"Training loss for ELU\")\n",
    "plt.xlabel(\"#iteration\")\n",
    "plt.ylabel(\"loss\")\n",
    "plt.yscale(\"log\")\n",
    "plt.plot(global_history[1], 'b')\n",
    "plt.plot(global_history_normalised[1], 'g')\n",
    "plt.legend(('ELU', 'ELU+Batch normalization'))\n",
    "plt.show()"
   ]
  },
  {
   "cell_type": "code",
   "execution_count": 0,
   "metadata": {
    "colab": {
     "base_uri": "https://localhost:8080/",
     "height": 404
    },
    "colab_type": "code",
    "id": "LTi2VwlBOWfs",
    "outputId": "9a96774d-61e9-4280-c679-b582a5c38bad"
   },
   "outputs": [
    {
     "data": {
      "image/png": "[encoded data removed]",
      "text/plain": [
       "<Figure size 576x432 with 1 Axes>"
      ]
     },
     "metadata": {
      "needs_background": "light",
      "tags": []
     },
     "output_type": "display_data"
    }
   ],
   "source": [
    "display.clear_output(wait=True)\n",
    "plt.figure(figsize=(8, 6))\n",
    "    \n",
    "plt.title(\"Training loss for LeakyReLU\")\n",
    "plt.xlabel(\"#iteration\")\n",
    "plt.ylabel(\"loss\")\n",
    "plt.yscale(\"log\")\n",
    "plt.plot(global_history[2], 'b')\n",
    "plt.plot(global_history_normalised[2], 'g')\n",
    "plt.legend(('LeakyReLU', 'LeakyReLU+Batch normalization'))\n",
    "plt.show()"
   ]
  },
  {
   "cell_type": "code",
   "execution_count": 0,
   "metadata": {
    "colab": {
     "base_uri": "https://localhost:8080/",
     "height": 404
    },
    "colab_type": "code",
    "id": "YdRS33xSOm0M",
    "outputId": "30d79cca-ff4b-4ac2-e709-1c3713e01ef4"
   },
   "outputs": [
    {
     "data": {
      "image/png": "[encoded data removed]",
      "text/plain": [
       "<Figure size 576x432 with 1 Axes>"
      ]
     },
     "metadata": {
      "needs_background": "light",
      "tags": []
     },
     "output_type": "display_data"
    }
   ],
   "source": [
    "display.clear_output(wait=True)\n",
    "plt.figure(figsize=(8, 6))\n",
    "    \n",
    "plt.title(\"Training loss for SoftPlus\")\n",
    "plt.xlabel(\"#iteration\")\n",
    "plt.ylabel(\"loss\")\n",
    "plt.yscale(\"log\")\n",
    "plt.plot(global_history[3], 'b')\n",
    "plt.plot(global_history_normalised[3], 'g')\n",
    "plt.legend(('SoftPlus', 'SoftPlus+Batch normalization'))\n",
    "plt.show()"
   ]
  },
  {
   "cell_type": "markdown",
   "metadata": {
    "colab_type": "text",
    "id": "FUtLHgMtSjXh"
   },
   "source": [
    "It is clearly seen, that in all cases we have, that the optimization process for the normalised case starts slower, but after some number of iteration converges faster"
   ]
  },
  {
   "cell_type": "markdown",
   "metadata": {
    "colab_type": "text",
    "id": "VJclPURA1KWZ"
   },
   "source": [
    "Let's try different optimizers"
   ]
  },
  {
   "cell_type": "code",
   "execution_count": 0,
   "metadata": {
    "colab": {},
    "colab_type": "code",
    "id": "QBsaOuNV2ov-"
   },
   "outputs": [],
   "source": [
    "optimizer_config['learning_rate'] = 1e-3\n",
    "optimizer_config['beta1'] = 0.9\n",
    "optimizer_config['beta2'] = 0.999\n",
    "optimizer_config['epsilon'] = 1e-8\n",
    "optimizer_state = {}"
   ]
  },
  {
   "cell_type": "code",
   "execution_count": 67,
   "metadata": {
    "colab": {
     "base_uri": "https://localhost:8080/",
     "height": 421
    },
    "colab_type": "code",
    "id": "1zNGyEyC1JZj",
    "outputId": "bbb0d0fd-4c09-46a1-9c37-c4aa770049f8"
   },
   "outputs": [
    {
     "data": {
      "image/png": "[encoded data removed]",
      "text/plain": [
       "<Figure size 576x432 with 1 Axes>"
      ]
     },
     "metadata": {
      "needs_background": "light",
      "tags": []
     },
     "output_type": "display_data"
    },
    {
     "name": "stdout",
     "output_type": "stream",
     "text": [
      "Current loss: 0.007233\n"
     ]
    }
   ],
   "source": [
    "n_epoch = 20\n",
    "batch_size = 1000\n",
    "loss_history_adam = []\n",
    "\n",
    "net = Sequential()\n",
    "net.add(Linear(784, 1600))\n",
    "net.add(ReLU())\n",
    "net.add(Linear(1600, 10))\n",
    "net.add(LogSoftMax())\n",
    "\n",
    "for i in range(n_epoch):\n",
    "\n",
    "    for x_batch, y_batch in get_batches((X_train, y_train_hot), batch_size):\n",
    "        \n",
    "        net.zeroGradParameters()\n",
    "        \n",
    "        # Forward\n",
    "        predictions = net.forward(x_batch)\n",
    "        loss = criterion.forward(predictions, y_batch)\n",
    "    \n",
    "        # Backward\n",
    "        dp = criterion.backward(predictions, y_batch)\n",
    "        net.backward(x_batch, dp)\n",
    "        \n",
    "        # Update weights\n",
    "        adam_optimizer(net.getParameters(), \n",
    "                    net.getGradParameters(), \n",
    "                    optimizer_config,\n",
    "                    optimizer_state)      \n",
    "        \n",
    "        loss_history_adam.append(loss)\n",
    "\n",
    "\n",
    "    # Visualize\n",
    "    display.clear_output(wait=True)\n",
    "    plt.figure(figsize=(8, 6))\n",
    "        \n",
    "    plt.title(\"Training loss\")\n",
    "    plt.xlabel(\"#iteration\")\n",
    "    plt.ylabel(\"loss\")\n",
    "    plt.plot(loss_history_adam)\n",
    "    plt.show()\n",
    "    \n",
    "    print('Current loss: %f' % loss)"
   ]
  },
  {
   "cell_type": "code",
   "execution_count": 0,
   "metadata": {
    "colab": {},
    "colab_type": "code",
    "id": "fB4kId4r3uWn"
   },
   "outputs": [],
   "source": [
    "optimizer_config = {'learning_rate' : 1e-1, 'momentum': 0.9}\n",
    "optimizer_state = {}"
   ]
  },
  {
   "cell_type": "code",
   "execution_count": 65,
   "metadata": {
    "colab": {
     "base_uri": "https://localhost:8080/",
     "height": 421
    },
    "colab_type": "code",
    "id": "8v6V-x0v3w1u",
    "outputId": "3a7a441e-19dd-479f-feae-1928e04820e9"
   },
   "outputs": [
    {
     "data": {
      "image/png": "[encoded data removed]",
      "text/plain": [
       "<Figure size 576x432 with 1 Axes>"
      ]
     },
     "metadata": {
      "needs_background": "light",
      "tags": []
     },
     "output_type": "display_data"
    },
    {
     "name": "stdout",
     "output_type": "stream",
     "text": [
      "Current loss: 0.027709\n"
     ]
    }
   ],
   "source": [
    "n_epoch = 20\n",
    "batch_size = 1000\n",
    "loss_history_sgd = []\n",
    "\n",
    "net = Sequential()\n",
    "net.add(Linear(784, 1600))\n",
    "net.add(ReLU())\n",
    "net.add(Linear(1600, 10))\n",
    "net.add(LogSoftMax())\n",
    "\n",
    "for i in range(n_epoch):\n",
    "\n",
    "    for x_batch, y_batch in get_batches((X_train, y_train_hot), batch_size):\n",
    "        \n",
    "        net.zeroGradParameters()\n",
    "        \n",
    "        # Forward\n",
    "        predictions = net.forward(x_batch)\n",
    "        loss = criterion.forward(predictions, y_batch)\n",
    "    \n",
    "        # Backward\n",
    "        dp = criterion.backward(predictions, y_batch)\n",
    "        net.backward(x_batch, dp)\n",
    "        \n",
    "        # Update weights\n",
    "        sgd_momentum(net.getParameters(), \n",
    "                    net.getGradParameters(), \n",
    "                    optimizer_config,\n",
    "                    optimizer_state)      \n",
    "        \n",
    "        loss_history_sgd.append(loss)\n",
    "\n",
    "\n",
    "    # Visualize\n",
    "    display.clear_output(wait=True)\n",
    "    plt.figure(figsize=(8, 6))\n",
    "        \n",
    "    plt.title(\"Training loss\")\n",
    "    plt.xlabel(\"#iteration\")\n",
    "    plt.ylabel(\"loss\")\n",
    "    plt.plot(loss_history_sgd)\n",
    "    plt.show()\n",
    "    \n",
    "    print('Current loss: %f' % loss)"
   ]
  },
  {
   "cell_type": "code",
   "execution_count": 68,
   "metadata": {
    "colab": {
     "base_uri": "https://localhost:8080/",
     "height": 404
    },
    "colab_type": "code",
    "id": "zCtUK2u_4LOb",
    "outputId": "fd002a2d-b39d-4bd0-b832-69409d309a55"
   },
   "outputs": [
    {
     "data": {
      "image/png": "[encoded data removed]",
      "text/plain": [
       "<Figure size 576x432 with 1 Axes>"
      ]
     },
     "metadata": {
      "needs_background": "light",
      "tags": []
     },
     "output_type": "display_data"
    }
   ],
   "source": [
    "plt.figure(figsize=(8, 6))\n",
    "    \n",
    "plt.plot(loss_history_adam, label = 'Loss for Adam')\n",
    "plt.plot(loss_history_sgd, label = 'Loss for SGD')\n",
    "plt.legend(loc = 'best')\n",
    "plt.title(\"Training loss\")\n",
    "plt.xlabel(\"#iteration\")\n",
    "plt.ylabel(\"loss\")\n",
    "plt.yscale(\"log\")\n",
    "\n",
    "plt.show()"
   ]
  },
  {
   "cell_type": "markdown",
   "metadata": {
    "colab_type": "text",
    "id": "R5yungf49fG3"
   },
   "source": [
    "As we can see, the adam optimizer show itself better than SGD, because it converges faster (its loss curve lies lower)"
   ]
  },
  {
   "cell_type": "markdown",
   "metadata": {
    "colab_type": "text",
    "id": "dLhADlqKtvVi"
   },
   "source": [
    "Let's try to add some parameters and the Dropout layer to our network."
   ]
  },
  {
   "cell_type": "code",
   "execution_count": 0,
   "metadata": {
    "colab": {},
    "colab_type": "code",
    "id": "ROc3mKMoieCs"
   },
   "outputs": [],
   "source": [
    "from sklearn.metrics import accuracy_score\n",
    "optimizer_config['learning_rate'] = 1e-3\n",
    "optimizer_config['beta1'] = 0.9\n",
    "optimizer_config['beta2'] = 0.999\n",
    "optimizer_config['epsilon'] = 1e-8\n",
    "optimizer_state = {}"
   ]
  },
  {
   "cell_type": "code",
   "execution_count": 71,
   "metadata": {
    "colab": {
     "base_uri": "https://localhost:8080/",
     "height": 421
    },
    "colab_type": "code",
    "id": "TkW453VMa2mO",
    "outputId": "89378f65-0dc7-433a-d466-359dc5505ae6"
   },
   "outputs": [
    {
     "data": {
      "image/png": "[encoded data removed]",
      "text/plain": [
       "<Figure size 576x432 with 1 Axes>"
      ]
     },
     "metadata": {
      "needs_background": "light",
      "tags": []
     },
     "output_type": "display_data"
    },
    {
     "name": "stdout",
     "output_type": "stream",
     "text": [
      "Current loss: 0.256195\n"
     ]
    }
   ],
   "source": [
    "n_epoch = 10\n",
    "batch_size = 1000\n",
    "\n",
    "drop_loss_history = []\n",
    "\n",
    "accuracy_train = []\n",
    "accuracy_val = []\n",
    "accuracy_test = []\n",
    "\n",
    "net = Sequential()\n",
    "net.add(Linear(784, 392))\n",
    "net.add(BatchNormalization(alpha= 0.1))\n",
    "net.add(ChannelwiseScaling(392))\n",
    "net.add(ELU())\n",
    "net.add(Dropout())\n",
    "net.add(Linear(392, 10))\n",
    "net.add(LogSoftMax())\n",
    "\n",
    "for i in range(n_epoch):\n",
    "    \n",
    "    for x_batch, y_batch in get_batches((X_train, y_train_hot), batch_size):\n",
    "        \n",
    "        net.zeroGradParameters()\n",
    "        \n",
    "        # Forward\n",
    "        predictions = net.forward(x_batch)\n",
    "        loss = criterion.forward(predictions, y_batch)\n",
    "    \n",
    "        # Backward\n",
    "        dp = criterion.backward(predictions, y_batch)\n",
    "        net.backward(x_batch, dp)\n",
    "        \n",
    "        # Update weights\n",
    "        adam_optimizer(net.getParameters(), \n",
    "                    net.getGradParameters(), \n",
    "                    optimizer_config,\n",
    "                    optimizer_state)   \n",
    "        \n",
    "        drop_loss_history.append(loss)\n",
    "\n",
    "\n",
    "    net.training = False\n",
    "\n",
    "    # Predict for the train set\n",
    "    y_pred_train = net.forward(X_train)\n",
    "    # Accuracy for the train set\n",
    "    accuracy_train.append(accuracy_score(np.argmax(y_train_hot, axis = 1), np.argmax(y_pred_train, axis = 1)))\n",
    "    # Predict for the val set\n",
    "    y_pred_val = net.forward(X_val)\n",
    "    # Accuracy for the val set\n",
    "    accuracy_val.append(accuracy_score(np.argmax(y_val_hot, axis = 1), np.argmax(y_pred_val, axis = 1)))\n",
    "    # Predict for the test set\n",
    "    y_pred_test = net.forward(X_test)\n",
    "    # Accuracy for the test set\n",
    "    accuracy_test.append(accuracy_score(np.argmax(y_test_hot, axis = 1), np.argmax(y_pred_test, axis = 1)))\n",
    "    net.training = True\n",
    "    \n",
    "    \n",
    "\n",
    "    # Visualize\n",
    "    display.clear_output(wait=True)\n",
    "    plt.figure(figsize=(8, 6))\n",
    "        \n",
    "    plt.title(\"Training loss\")\n",
    "    plt.xlabel(\"#iteration\")\n",
    "    plt.ylabel(\"loss\")\n",
    "    plt.plot(drop_loss_history, label = 'train loss')\n",
    "    plt.show()\n",
    "    \n",
    "    print('Current loss: %f' % loss)"
   ]
  },
  {
   "cell_type": "code",
   "execution_count": 72,
   "metadata": {
    "colab": {
     "base_uri": "https://localhost:8080/",
     "height": 279
    },
    "colab_type": "code",
    "id": "JjKbB-aokc_K",
    "outputId": "35c833a3-7d8e-4975-fb88-4f5e29e13736"
   },
   "outputs": [
    {
     "data": {
      "image/png": "[encoded data removed]",
      "text/plain": [
       "<Figure size 432x288 with 1 Axes>"
      ]
     },
     "metadata": {
      "needs_background": "light",
      "tags": []
     },
     "output_type": "display_data"
    }
   ],
   "source": [
    "plt.plot(accuracy_train,label='train accuracy')\n",
    "plt.plot(accuracy_val,label='val accuracy')\n",
    "plt.plot(accuracy_test,label='test accuracy')\n",
    "plt.xlabel('Epoch')\n",
    "plt.xlabel('Accuracy')\n",
    "plt.legend(loc='best')\n",
    "plt.grid()\n",
    "plt.show()"
   ]
  },
  {
   "cell_type": "code",
   "execution_count": 75,
   "metadata": {
    "colab": {
     "base_uri": "https://localhost:8080/",
     "height": 421
    },
    "colab_type": "code",
    "id": "TS-b14IUlZfZ",
    "outputId": "31600498-f589-4503-b05e-1b5924c9adba"
   },
   "outputs": [
    {
     "data": {
      "image/png": "[encoded data removed]",
      "text/plain": [
       "<Figure size 576x432 with 1 Axes>"
      ]
     },
     "metadata": {
      "needs_background": "light",
      "tags": []
     },
     "output_type": "display_data"
    },
    {
     "name": "stdout",
     "output_type": "stream",
     "text": [
      "Current loss: 0.263583\n"
     ]
    }
   ],
   "source": [
    "n_epoch = 10\n",
    "batch_size = 1000\n",
    "\n",
    "no_drop_loss_history = []\n",
    "\n",
    "accuracy_train = []\n",
    "accuracy_val = []\n",
    "accuracy_test = []\n",
    "\n",
    "net = Sequential()\n",
    "\n",
    "net = Sequential()\n",
    "net.add(Linear(784, 392))\n",
    "net.add(BatchNormalization(alpha= 0.1))\n",
    "net.add(ChannelwiseScaling(392))\n",
    "net.add(ELU())\n",
    "\n",
    "net.add(Linear(392, 10))\n",
    "net.add(LogSoftMax())\n",
    "\n",
    "for i in range(n_epoch):\n",
    "    \n",
    "    for x_batch, y_batch in get_batches((X_train, y_train_hot), batch_size):\n",
    "        \n",
    "        net.zeroGradParameters()\n",
    "        \n",
    "        # Forward\n",
    "        predictions = net.forward(x_batch)\n",
    "        loss = criterion.forward(predictions, y_batch)\n",
    "    \n",
    "        # Backward\n",
    "        dp = criterion.backward(predictions, y_batch)\n",
    "        net.backward(x_batch, dp)\n",
    "        \n",
    "        # Update weights\n",
    "        adam_optimizer(net.getParameters(), \n",
    "                    net.getGradParameters(), \n",
    "                    optimizer_config,\n",
    "                    optimizer_state)   \n",
    "        \n",
    "        no_drop_loss_history.append(loss)\n",
    "\n",
    "\n",
    "    net.training = False\n",
    "    # Predict for the train set\n",
    "    y_pred_train = net.forward(X_train)\n",
    "    # Accuracy for the train set\n",
    "    accuracy_train.append(accuracy_score(np.argmax(y_train_hot, axis = 1), np.argmax(y_pred_train, axis = 1)))\n",
    "    # Predict for the val set\n",
    "    y_pred_val = net.forward(X_val)\n",
    "    # Accuracy for the val set\n",
    "    accuracy_val.append(accuracy_score(np.argmax(y_val_hot, axis = 1), np.argmax(y_pred_val, axis = 1)))\n",
    "    # Predict for the test set\n",
    "    y_pred_test = net.forward(X_test)\n",
    "    # Accuracy for the test set\n",
    "    accuracy_test.append(accuracy_score(np.argmax(y_test_hot, axis = 1), np.argmax(y_pred_test, axis = 1)))\n",
    "    net.training = True\n",
    "    \n",
    "    \n",
    "\n",
    "    # Visualize\n",
    "    display.clear_output(wait=True)\n",
    "    plt.figure(figsize=(8, 6))\n",
    "        \n",
    "    plt.title(\"Training loss\")\n",
    "    plt.xlabel(\"#iteration\")\n",
    "    plt.ylabel(\"loss\")\n",
    "    plt.plot(no_drop_loss_history, label = 'train loss')\n",
    "\n",
    "    plt.show()\n",
    "    \n",
    "    print('Current loss: %f' % loss)"
   ]
  },
  {
   "cell_type": "code",
   "execution_count": 76,
   "metadata": {
    "colab": {
     "base_uri": "https://localhost:8080/",
     "height": 279
    },
    "colab_type": "code",
    "id": "AB1VBT_GmoNp",
    "outputId": "c4b3c952-c8fb-4a76-cfd6-e796f23f539c"
   },
   "outputs": [
    {
     "data": {
      "image/png": "[encoded data removed]",
      "text/plain": [
       "<Figure size 432x288 with 1 Axes>"
      ]
     },
     "metadata": {
      "needs_background": "light",
      "tags": []
     },
     "output_type": "display_data"
    }
   ],
   "source": [
    "plt.plot(accuracy_train,label='train accuracy')\n",
    "plt.plot(accuracy_val,label='val accuracy')\n",
    "plt.plot(accuracy_test,label='test accuracy')\n",
    "plt.xlabel('Epoch')\n",
    "plt.xlabel('Accuracy')\n",
    "plt.legend(loc='best')\n",
    "plt.grid()\n",
    "plt.show()"
   ]
  },
  {
   "cell_type": "code",
   "execution_count": 78,
   "metadata": {
    "colab": {
     "base_uri": "https://localhost:8080/",
     "height": 295
    },
    "colab_type": "code",
    "id": "ygT7EQKPlye2",
    "outputId": "4fa0d7a6-174a-42f3-f732-554304750e58"
   },
   "outputs": [
    {
     "data": {
      "image/png": "[encoded data removed]",
      "text/plain": [
       "<Figure size 432x288 with 1 Axes>"
      ]
     },
     "metadata": {
      "needs_background": "light",
      "tags": []
     },
     "output_type": "display_data"
    }
   ],
   "source": [
    "\n",
    "plt.plot(no_drop_loss_history, label = 'Train Without Dropout layer')\n",
    "plt.plot(drop_loss_history, label = 'Train With Dropout layer')\n",
    "\n",
    "plt.legend(loc='best')\n",
    "plt.title(\"Training loss\")\n",
    "plt.xlabel(\"#iteration\")\n",
    "plt.ylabel(\"loss\")\n",
    "plt.grid()\n",
    "plt.show()"
   ]
  },
  {
   "cell_type": "markdown",
   "metadata": {
    "colab_type": "text",
    "id": "NVHvMyRo_73i"
   },
   "source": [
    "From the conducted analysis we can see, that for the dropout implementation the results on test, validation and train datasets are pretty much similar, which says, that networks does not overfit. From the second plot with accuracies we see, that train accuracy grows faster than accuracies, that network didn't see during the training process. Also we can see overfitting from the training loss curve since the loss curve for the dropout layer converges a bit faster and it can indicate learning some specifics of the training samples rather then general dependency between features and targets."
   ]
  },
  {
   "cell_type": "markdown",
   "metadata": {
    "colab_type": "text",
    "id": "JksQPVi9a8ax"
   },
   "source": [
    "# Part 4: Convolutional neural networks\n",
    "\n",
    "In the previous part you needed to train a dense, or fully-connected, neural network. This part of the homework is to prepare modules for training a basic convolutional network: `Conv2D`, `Flatten`, `MaxPool2d`. "
   ]
  },
  {
   "cell_type": "markdown",
   "metadata": {
    "colab_type": "text",
    "id": "SN27n-5Ba8ax"
   },
   "source": [
    "Your task is to implement a simple framework for convolutional neural networks training. While convolutional neural networks is a subject of lecture 3, we expect that there are a lot of students who are familiar with the topic.\n",
    "\n",
    "In order to successfully complete this part, you will have to:\n",
    "\n",
    "- Implement all the layers below (`Conv2d`, `MaxPool2d`; `Flatten` is already implemented for convenience). Good implementation should pass all the tests in the subsequent cells.\n",
    "- Train a CNN that has at least one `Conv2d` layer and at least one `MaxPool2d` layer and achieves at least 97% accuracy on MNIST test set.\n",
    "\n",
    "Feel free to use the code from Part 3 for debugging or as a source of code snippets. "
   ]
  },
  {
   "cell_type": "markdown",
   "metadata": {
    "colab_type": "text",
    "id": "fInwNG7ga8ax"
   },
   "source": [
    "# Layers for Part 4"
   ]
  },
  {
   "cell_type": "markdown",
   "metadata": {
    "colab_type": "text",
    "id": "kb2v66Fna8ay"
   },
   "source": [
    "## 12. Conv2d *[2 pts]*\n",
    "- input:   **`batch_size x in_channels x h x w`**\n",
    "- output: **`batch_size x out_channels x h x w`**\n",
    "\n",
    "You should implement a layer which works like PyTorch `Conv2d` layer with `stride=1` and zero-padding outside of image using `scipy.signal.correlate` function.\n",
    "\n",
    "Practical notes:\n",
    "- While the layer name is \"convolution\", most of neural network frameworks (including TensorFlow and PyTorch) implement operation that is called [cross-correlation](https://en.wikipedia.org/wiki/Cross-correlation#Cross-correlation_of_deterministic_signals) in signal processing theory. So **don't use** `scipy.signal.convolve` since it implements [convolution](https://en.wikipedia.org/wiki/Convolution#Discrete_convolution) in terms of signal processing.\n",
    "- It may be convenient to use `np.pad` or `skimage.util.pad` for zero-padding.\n",
    "- It's rather ok to implement convolution over 4d array using 2 nested loops: one over batch size dimension and another one over output filters dimension\n",
    "- Having troubles with understanding how to implement the layer? \n",
    " - Check out e.g. this link on how to make forward pass and to calculate all the gradients: https://towardsdatascience.com/backpropagation-in-a-convolutional-layer-24c8d64d8509\n",
    " - May the google be with you"
   ]
  },
  {
   "cell_type": "code",
   "execution_count": 0,
   "metadata": {
    "colab": {},
    "colab_type": "code",
    "id": "pZFw7Fwga8ay"
   },
   "outputs": [],
   "source": [
    "import scipy as sp\n",
    "import scipy.signal\n",
    "import skimage\n",
    "\n",
    "class Conv2d(Module):\n",
    "    def __init__(self, in_channels, out_channels, kernel_size):\n",
    "        super(Conv2d, self).__init__()\n",
    "        assert kernel_size % 2 == 1, kernel_size\n",
    "       \n",
    "        stdv = 1./np.sqrt(in_channels)\n",
    "        self.W = np.random.uniform(-stdv, stdv, size = (out_channels, in_channels, kernel_size, kernel_size))\n",
    "        self.b = np.random.uniform(-stdv, stdv, size=(out_channels,))\n",
    "        self.in_channels = in_channels\n",
    "        self.out_channels = out_channels\n",
    "        self.kernel_size = kernel_size\n",
    "        \n",
    "        self.gradW = np.zeros_like(self.W)\n",
    "        self.gradb = np.zeros_like(self.b)\n",
    "        \n",
    "    def updateOutput(self, input):\n",
    "        pad_size = self.kernel_size // 2\n",
    "        # YOUR CODE ##############################\n",
    "        # 1. zero-pad the input array\n",
    "        # 2. compute convolution using scipy.signal.correlate(... , mode='valid')\n",
    "        # 3. add bias value\n",
    "        pad_width = ((0,0),(0,0), (pad_size, pad_size),(pad_size, pad_size))\n",
    "        input_padded = np.pad(input, pad_width)\n",
    "        N, C, H, W = input.shape\n",
    "        Np, Cp, Hp, Wp = input_padded.shape\n",
    "        F, C, HH, WW = self.W.shape\n",
    "        self.output = np.zeros((N, F, H, W))    \n",
    "        for n in range(Np):\n",
    "            for f in range(F):\n",
    "                self.output[n,f,:,:] = scipy.signal.correlate(input_padded[n,:,:,:], self.W[f,:,:,:], 'valid') + self.b[f]   \n",
    "        return self.output\n",
    "    \n",
    "    def updateGradInput(self, input, gradOutput):\n",
    "        pad_size = self.kernel_size // 2\n",
    "        # YOUR CODE ##############################\n",
    "        # 1. zero-pad the gradOutput\n",
    "        # 2. compute 'self.gradInput' value using scipy.signal.correlate(... , mode='valid')\n",
    "        # self.gradInput = ...\n",
    "        pad_width = ((0,0),(0,0), (pad_size, pad_size),(pad_size, pad_size))\n",
    "        gradOutput_padded = np.pad(gradOutput, pad_width)\n",
    "        self.gradInput = np.zeros_like(input)\n",
    "        N, C, H, W = input.shape\n",
    "        for n in range(N):\n",
    "            for c in range(C):                \n",
    "                self.gradInput[n,c] = scipy.signal.correlate(gradOutput_padded[n], np.rot90(self.W[:,c], 2, axes = (1,2)),'valid')\n",
    "        return self.gradInput\n",
    "    \n",
    "    def accGradParameters(self, input, gradOutput):\n",
    "        pad_size = self.kernel_size // 2\n",
    "        # YOUR CODE #############\n",
    "        # 1. zero-pad the input\n",
    "        # 2. compute 'self.gradW' using scipy.signal.correlate(... , mode='valid')\n",
    "        # 3. compute 'self.gradb' - formulas like in Linear of ChannelwiseScaling layers\n",
    "        # self.gradW = ...\n",
    "        # self.gradb = ...\n",
    "        pad_width = ((0,0),(0,0), (pad_size, pad_size),(pad_size, pad_size))\n",
    "        input_padded = np.pad(input, pad_width)    \n",
    "        F, C, HH, WW = self.W.shape\n",
    "        for i in range(self.out_channels):\n",
    "            for j in range(self.in_channels):\n",
    "                self.gradW[i,j,:,:] = scipy.signal.correlate(input_padded[:,j,:,:], gradOutput[:,i,:,:],'valid')                \n",
    "        self.gradb = np.sum(gradOutput, axis = (0,2,3))\n",
    "        pass\n",
    "    \n",
    "    def zeroGradParameters(self):\n",
    "        self.gradW.fill(0)\n",
    "        self.gradb.fill(0)\n",
    "        \n",
    "    def getParameters(self):\n",
    "        return [self.W, self.b]\n",
    "    \n",
    "    def getGradParameters(self):\n",
    "        return [self.gradW, self.gradb]\n",
    "    \n",
    "    def __repr__(self):\n",
    "        s = self.W.shape\n",
    "        q = 'Conv2d %d -> %d' %(s[1],s[0])\n",
    "        return q"
   ]
  },
  {
   "cell_type": "markdown",
   "metadata": {
    "colab_type": "text",
    "id": "TScpPmFOa8a0"
   },
   "source": [
    "## 13. MaxPool2d *[2 pts]*\n",
    "- input:   **`batch_size x n_input_channels x h x w`**\n",
    "- output: **`batch_size x n_output_channels x h // kern_size x w // kern_size`**\n",
    "\n",
    "You are to implement simplified version of pytorch `MaxPool2d` layer with stride = kernel_size. Please note, that it's not a common case that stride = kernel_size: in AlexNet and ResNet kernel_size for max-pooling was set to 3, while stride was set to 2. We introduce this restriction to make implementation simplier.\n",
    "\n",
    "Practical notes:\n",
    "- During forward pass what you need to do is just to reshape the input tensor to `[n, c, h / kern_size, kern_size, w / kern_size, kern_size]`, swap two axes and take maximums over the last two dimensions. Reshape + axes swap is sometimes called space-to-batch transform.\n",
    "- During backward pass you need to place the gradients in positions of maximal values taken during the forward pass\n",
    "- In real frameworks the indices of maximums are stored in memory during the forward pass. It is cheaper than to keep the layer input in memory and recompute the maximums. \n",
    "\n",
    "**Hint:** `np.put_along_axis` might be useful during backward pass."
   ]
  },
  {
   "cell_type": "code",
   "execution_count": 0,
   "metadata": {
    "colab": {},
    "colab_type": "code",
    "id": "QhjWwDqba8a0"
   },
   "outputs": [],
   "source": [
    "class MaxPool2d(Module):\n",
    "    def __init__(self, kernel_size):\n",
    "        super(MaxPool2d, self).__init__()\n",
    "        self.kernel_size = kernel_size\n",
    "        self.gradInput = None\n",
    "                    \n",
    "    def updateOutput(self, input):\n",
    "        input_h, input_w = input.shape[-2:]\n",
    "        # your may remove these asserts and implement MaxPool2d with padding\n",
    "        assert input_h % self.kernel_size == 0  \n",
    "        assert input_w % self.kernel_size == 0\n",
    "        \n",
    "        # YOUR CODE #############################\n",
    "        # self.output = ...\n",
    "        # self.max_indices = ...\n",
    "        N, C, H, W = input.shape\n",
    "        HK = H // self.kernel_size\n",
    "        WK = W // self.kernel_size\n",
    "        input_reshaped = input.reshape(N, C, HK, self.kernel_size, WK, self.kernel_size).transpose((0,1,2,4,3,5))\n",
    "        self.output = np.amax(input_reshaped, axis = (4,5))\n",
    "        input_reshaped2 = input_reshaped.reshape(N, C, HK, WK, self.kernel_size * self.kernel_size)\n",
    "        self.max_indices = np.argmax(input_reshaped2, axis = 4)[:, :, :, :, None]\n",
    "        return self.output\n",
    "\n",
    "    \n",
    "    def updateGradInput(self, input, gradOutput):\n",
    "        # YOUR CODE #############################\n",
    "        # self.gradInput = ...\n",
    "        N, C, H, W = input.shape\n",
    "        HK = H // self.kernel_size\n",
    "        WK = W // self.kernel_size\n",
    "        grad = np.zeros((N, C, HK, WK, self.kernel_size * self.kernel_size))\n",
    "        np.put_along_axis(grad, self.max_indices, gradOutput[:,:,:,:, None], axis = 4)\n",
    "        self.gradInput = grad.reshape(N, C, HK, WK, self.kernel_size, self.kernel_size).transpose((0,1,2,4,3,5)).reshape(N, C, H, W)\n",
    "        return self.gradInput\n",
    "    \n",
    "    def __repr__(self):\n",
    "        q = 'MaxPool2d, kern %d, stride %d' %(self.kernel_size, self.kernel_size)\n",
    "        return q"
   ]
  },
  {
   "cell_type": "markdown",
   "metadata": {
    "colab_type": "text",
    "id": "DOUvwl3_a8a3"
   },
   "source": [
    "### Flatten layer\n",
    "Just reshapes inputs and gradients. It's usually used as proxy layer between Conv2d and Linear.\n",
    "\n",
    "The layer is already implemented below, you don't need to change it."
   ]
  },
  {
   "cell_type": "code",
   "execution_count": 0,
   "metadata": {
    "colab": {},
    "colab_type": "code",
    "id": "VkhDIM9Qa8a3"
   },
   "outputs": [],
   "source": [
    "class Flatten(Module):\n",
    "    def __init__(self):\n",
    "        super(Flatten, self).__init__()\n",
    "    \n",
    "    def updateOutput(self, input):\n",
    "        self.output = input.reshape(len(input), -1)\n",
    "        return self.output\n",
    "    \n",
    "    def updateGradInput(self, input, gradOutput):\n",
    "        self.gradInput = gradOutput.reshape(input.shape)\n",
    "        return self.gradInput\n",
    "    \n",
    "    def __repr__(self):\n",
    "        return \"Flatten\""
   ]
  },
  {
   "cell_type": "markdown",
   "metadata": {
    "colab_type": "text",
    "id": "A8ujJjH0a8a5"
   },
   "source": [
    "# Testing your layers\n",
    "\n",
    "Please run the following cells to check if the implementations are correct (all tests are passed):"
   ]
  },
  {
   "cell_type": "code",
   "execution_count": 0,
   "metadata": {
    "colab": {},
    "colab_type": "code",
    "id": "x7h3gVBoa8a6"
   },
   "outputs": [],
   "source": [
    "from test_modules import make_advanced_tester\n",
    "import unittest"
   ]
  },
  {
   "cell_type": "code",
   "execution_count": 0,
   "metadata": {
    "colab": {},
    "colab_type": "code",
    "id": "3gSWKBYna8a8"
   },
   "outputs": [],
   "source": [
    "TestLayersAdv = make_advanced_tester({\n",
    "    'Conv2d': Conv2d,\n",
    "    'Flatten': Flatten,\n",
    "    'MaxPool2d': MaxPool2d,\n",
    "})"
   ]
  },
  {
   "cell_type": "code",
   "execution_count": 0,
   "metadata": {
    "colab": {},
    "colab_type": "code",
    "id": "uNpjs77ea8a9"
   },
   "outputs": [],
   "source": [
    "suite = unittest.TestLoader().loadTestsFromTestCase(TestLayersAdv)"
   ]
  },
  {
   "cell_type": "code",
   "execution_count": 32,
   "metadata": {
    "colab": {
     "base_uri": "https://localhost:8080/",
     "height": 153
    },
    "colab_type": "code",
    "id": "EpiyRGIfa8bA",
    "outputId": "3cca8055-8786-467f-b78e-ab7768c78310"
   },
   "outputs": [
    {
     "name": "stderr",
     "output_type": "stream",
     "text": [
      "test_Conv2d (test_modules.make_advanced_tester.<locals>._tester) ... ok\n",
      "test_MaxPool2d (test_modules.make_advanced_tester.<locals>._tester) ... ok\n",
      "\n",
      "----------------------------------------------------------------------\n",
      "Ran 2 tests in 0.407s\n",
      "\n",
      "OK\n"
     ]
    },
    {
     "data": {
      "text/plain": [
       "<unittest.runner.TextTestResult run=2 errors=0 failures=0>"
      ]
     },
     "execution_count": 32,
     "metadata": {
      "tags": []
     },
     "output_type": "execute_result"
    }
   ],
   "source": [
    "unittest.TextTestRunner(verbosity=2).run(suite)"
   ]
  },
  {
   "cell_type": "markdown",
   "metadata": {
    "colab_type": "text",
    "id": "l2chB7Doa8bC"
   },
   "source": [
    "# Training a convolutional network  *[3 pts]*\n",
    "\n",
    "Here you task is to train a CNN that has at least one `Conv2d` layer and `MaxPool2d` layer which achieves at least 97% accuracy on MNIST **test** set.\n",
    "\n",
    "**Hint:** Layers implemented in this homework run on CPU, and if the network is too deep, training might last forever, so we suggest to start with smaller networks. This subtask can be solved with a ConvNet having only 3 `Conv2d` layers (or even less) with a small number of channels."
   ]
  },
  {
   "cell_type": "code",
   "execution_count": 0,
   "metadata": {
    "colab": {},
    "colab_type": "code",
    "id": "clwFqY1ha8bC"
   },
   "outputs": [],
   "source": [
    "%matplotlib inline\n",
    "from time import time, sleep\n",
    "import numpy as np\n",
    "import matplotlib.pyplot as plt\n",
    "from IPython import display\n",
    "from sklearn.metrics import accuracy_score"
   ]
  },
  {
   "cell_type": "code",
   "execution_count": 0,
   "metadata": {
    "colab": {},
    "colab_type": "code",
    "id": "gO766ppQa8bE"
   },
   "outputs": [],
   "source": [
    "import mnist\n",
    "X_train, y_train, X_val, y_val, X_test, y_test = mnist.load_dataset()  # your dataset"
   ]
  },
  {
   "cell_type": "code",
   "execution_count": 0,
   "metadata": {
    "colab": {},
    "colab_type": "code",
    "id": "YzDFTuGRa8bI"
   },
   "outputs": [],
   "source": [
    "from sklearn.preprocessing import OneHotEncoder\n",
    "\n",
    "ohot_encoder = OneHotEncoder(categories=[range(10)])\n",
    "\n",
    "y_train_hot = np.asarray(ohot_encoder.fit_transform(y_train.reshape(-1, 1)).todense())\n",
    "y_val_hot = np.asarray(ohot_encoder.transform(y_val.reshape(-1, 1)).todense())\n",
    "y_test_hot = np.asarray(ohot_encoder.transform(y_test.reshape(-1, 1)).todense())"
   ]
  },
  {
   "cell_type": "code",
   "execution_count": 0,
   "metadata": {
    "colab": {},
    "colab_type": "code",
    "id": "RZOtGSVStLn3"
   },
   "outputs": [],
   "source": [
    "# Iptimizer params\n",
    "optimizer_config = {'learning_rate' : 1e-1, 'momentum': 0.9}\n",
    "optimizer_state = {}"
   ]
  },
  {
   "cell_type": "code",
   "execution_count": 0,
   "metadata": {
    "colab": {},
    "colab_type": "code",
    "id": "nbn1S69otQi1"
   },
   "outputs": [],
   "source": [
    "# batch generator\n",
    "def get_batches(dataset, batch_size):\n",
    "    X, Y = dataset\n",
    "    n_samples = X.shape[0]\n",
    "        \n",
    "    # Shuffle at the start of epoch\n",
    "    indices = np.arange(n_samples)\n",
    "    np.random.shuffle(indices)\n",
    "    \n",
    "    for start in range(0, n_samples, batch_size):\n",
    "        end = min(start + batch_size, n_samples)\n",
    "        \n",
    "        batch_idx = indices[start:end]\n",
    "    \n",
    "        yield X[batch_idx], Y[batch_idx]"
   ]
  },
  {
   "cell_type": "code",
   "execution_count": 0,
   "metadata": {
    "colab": {},
    "colab_type": "code",
    "id": "AnY95SBStr7v"
   },
   "outputs": [],
   "source": [
    "Ntr, Htr, Wtr = X_train.shape\n",
    "Nv, Hv, Wv = X_val.shape\n",
    "Nte, Hte, Wte = X_test.shape\n",
    "\n",
    "X_train = X_train.reshape(Ntr, 1, Htr, Wtr)\n",
    "X_val = X_val.reshape(Nv, 1, Hv, Wv)\n",
    "X_test = X_test.reshape(Nte, 1, Hte, Wte)\n",
    "\n",
    "X_train = X_train.astype('float32')\n",
    "X_val = X_val.astype('float32')\n",
    "X_test = X_test.astype('float32')"
   ]
  },
  {
   "cell_type": "code",
   "execution_count": 0,
   "metadata": {
    "colab": {},
    "colab_type": "code",
    "id": "2YqbM9--G-dH"
   },
   "outputs": [],
   "source": [
    "import time\n",
    "optimizer_config = {'learning_rate' : 1e-1, 'momentum': 0.9}\n",
    "optimizer_state = {}"
   ]
  },
  {
   "cell_type": "code",
   "execution_count": 119,
   "metadata": {
    "colab": {
     "base_uri": "https://localhost:8080/",
     "height": 455
    },
    "colab_type": "code",
    "id": "L2-sR84vtRCI",
    "outputId": "6bf53da9-4fda-4dc0-9369-cdef951c43ec"
   },
   "outputs": [
    {
     "data": {
      "image/png": "[encoded data removed]",
      "text/plain": [
       "<Figure size 576x432 with 1 Axes>"
      ]
     },
     "metadata": {
      "needs_background": "light",
      "tags": []
     },
     "output_type": "display_data"
    },
    {
     "name": "stdout",
     "output_type": "stream",
     "text": [
      "Current loss: 0.063282\n",
      "Time for the last epoch: 120.370942\n",
      "The last accuracy: 0.972600\n"
     ]
    }
   ],
   "source": [
    "n_epoch = 10\n",
    "batch_size = 1000\n",
    "\n",
    "\n",
    "# The network\n",
    "net = Sequential()\n",
    "net.add(Conv2d(1,2,3))\n",
    "net.add(MaxPool2d(2))\n",
    "net.add(ELU())\n",
    "net.add(Conv2d(2,3,3))\n",
    "net.add(ELU())\n",
    "net.add(Flatten())\n",
    "net.add(Linear(14*14*3, 10))\n",
    "net.add(LogSoftMax())\n",
    "\n",
    "loss_history = []\n",
    "criterion = ClassNLLCriterion()\n",
    "for i in range(n_epoch):\n",
    "    start = time.time()\n",
    "    for x_batch, y_batch in get_batches((X_train, y_train_hot), batch_size):\n",
    "        \n",
    "        net.zeroGradParameters()\n",
    "        \n",
    "        # Forward\n",
    "        predictions = net.forward(x_batch)\n",
    "        loss = criterion.forward(predictions, y_batch)\n",
    "    \n",
    "        # Backward\n",
    "        dp = criterion.backward(predictions, y_batch)\n",
    "        net.backward(x_batch, dp)\n",
    "        \n",
    "        # Update weights\n",
    "        sgd_momentum(net.getParameters(), \n",
    "                    net.getGradParameters(), \n",
    "                    optimizer_config,\n",
    "                    optimizer_state)   \n",
    "        \n",
    "        loss_history.append(loss)\n",
    "\n",
    "    net.training = False\n",
    "    # Predict for the test set\n",
    "    y_pred = net.forward(X_test)\n",
    "    # Accuracy for the test set\n",
    "    accuracy = accuracy_score(np.argmax(y_test_hot, axis = 1), np.argmax(y_pred, axis = 1))\n",
    "    net.training = True\n",
    "    end = time.time()\n",
    "    \n",
    "\n",
    "    # Visualize\n",
    "    display.clear_output(wait=True)\n",
    "    plt.figure(figsize=(8, 6))\n",
    "        \n",
    "    plt.title(\"Training loss\")\n",
    "    plt.xlabel(\"#iteration\")\n",
    "    plt.ylabel(\"loss\")\n",
    "    plt.plot(loss_history)\n",
    "    plt.show()\n",
    "    \n",
    "    print('Current loss: %f' % loss)\n",
    "    print('Time for the last epoch: %f' % (end-start))\n",
    "    print('The last accuracy: %f' % accuracy)\n",
    "\n"
   ]
  },
  {
   "cell_type": "markdown",
   "metadata": {
    "colab_type": "text",
    "id": "5WhpzQZdejpY"
   },
   "source": [
    "The task was completed, accuracy on the test data > 0.97"
   ]
  },
  {
   "cell_type": "markdown",
   "metadata": {
    "colab_type": "text",
    "id": "necr6Vjea8bJ"
   },
   "source": [
    "### Reward\n",
    "\n",
    "Once done with the homework, check out [this link](https://www.cs.ryerson.ca/~aharley/vis/conv/) with some beautiful 3D visualization of what convnets really learn on MNIST :)\n",
    "\n",
    "You can also see [here](https://www.cs.ryerson.ca/~aharley/vis/fc/) that fully-connected networks are not so interpretable. "
   ]
  }
 ],
 "metadata": {
  "colab": {
   "collapsed_sections": [
    "3SNAGTbda8Za",
    "necr6Vjea8bJ"
   ],
   "name": "hw1_Poddubny_Andrey.ipynb",
   "provenance": []
  },
  "kernelspec": {
   "display_name": "Python 3",
   "language": "python",
   "name": "python3"
  },
  "language_info": {
   "codemirror_mode": {
    "name": "ipython",
    "version": 3
   },
   "file_extension": ".py",
   "mimetype": "text/x-python",
   "name": "python",
   "nbconvert_exporter": "python",
   "pygments_lexer": "ipython3",
   "version": "3.7.2"
  }
 },
 "nbformat": 4,
 "nbformat_minor": 1
}
